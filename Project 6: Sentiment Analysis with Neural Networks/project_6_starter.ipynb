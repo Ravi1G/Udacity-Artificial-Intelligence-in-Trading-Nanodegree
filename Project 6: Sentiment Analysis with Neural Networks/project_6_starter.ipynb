{
 "cells": [
  {
   "cell_type": "markdown",
   "metadata": {},
   "source": [
    "# Project 6: Analyzing Stock Sentiment from Twits\n",
    "## Instructions\n",
    "Each problem consists of a function to implement and instructions on how to implement the function.  The parts of the function that need to be implemented are marked with a `# TODO` comment.\n",
    "\n",
    "## Packages\n",
    "When you implement the functions, you'll only need to you use the packages you've used in the classroom, like [Pandas](https://pandas.pydata.org/) and [Numpy](http://www.numpy.org/). These packages will be imported for you. We recommend you don't add any import statements, otherwise the grader might not be able to run your code.\n",
    "\n",
    "### Load Packages"
   ]
  },
  {
   "cell_type": "code",
   "execution_count": 2,
   "metadata": {},
   "outputs": [],
   "source": [
    "import json\n",
    "import nltk\n",
    "import os\n",
    "import random\n",
    "import re\n",
    "import torch\n",
    "\n",
    "from torch import nn, optim\n",
    "import torch.nn.functional as F"
   ]
  },
  {
   "cell_type": "markdown",
   "metadata": {},
   "source": [
    "## Introduction\n",
    "When deciding the value of a company, it's important to follow the news. For example, a product recall or natural disaster in a company's product chain. You want to be able to turn this information into a signal. Currently, the best tool for the job is a Neural Network. \n",
    "\n",
    "For this project, you'll use posts from the social media site [StockTwits](https://en.wikipedia.org/wiki/StockTwits). The community on StockTwits is full of investors, traders, and entrepreneurs. Each message posted is called a Twit. This is similar to Twitter's version of a post, called a Tweet. You'll build a model around these twits that generate a sentiment score.\n",
    "\n",
    "We've collected a bunch of twits, then hand labeled the sentiment of each. To capture the degree of sentiment, we'll use a five-point scale: very negative, negative, neutral, positive, very positive. Each twit is labeled -2 to 2 in steps of 1, from very negative to very positive respectively. You'll build a sentiment analysis model that will learn to assign sentiment to twits on its own, using this labeled data.\n",
    "\n",
    "The first thing we should to do, is load the data.\n",
    "\n",
    "## Import Twits \n",
    "### Load Twits Data \n",
    "This JSON file contains a list of objects for each twit in the `'data'` field:\n",
    "\n",
    "```\n",
    "{'data':\n",
    "  {'message_body': 'Neutral twit body text here',\n",
    "   'sentiment': 0},\n",
    "  {'message_body': 'Happy twit body text here',\n",
    "   'sentiment': 1},\n",
    "   ...\n",
    "}\n",
    "```\n",
    "\n",
    "The fields represent the following:\n",
    "\n",
    "* `'message_body'`: The text of the twit.\n",
    "* `'sentiment'`: Sentiment score for the twit, ranges from -2 to 2 in steps of 1, with 0 being neutral.\n",
    "\n",
    "\n",
    "To see what the data look like by printing the first 10 twits from the list. "
   ]
  },
  {
   "cell_type": "code",
   "execution_count": 3,
   "metadata": {},
   "outputs": [
    {
     "name": "stdout",
     "output_type": "stream",
     "text": [
      "[{'message_body': '$FITB great buy at 26.00...ill wait', 'sentiment': 2, 'timestamp': '2018-07-01T00:00:09Z'}, {'message_body': '@StockTwits $MSFT', 'sentiment': 1, 'timestamp': '2018-07-01T00:00:42Z'}, {'message_body': '#STAAnalystAlert for $TDG : Jefferies Maintains with a rating of Hold setting target price at USD 350.00. Our own verdict is Buy  http://www.stocktargetadvisor.com/toprating', 'sentiment': 2, 'timestamp': '2018-07-01T00:01:24Z'}, {'message_body': '$AMD I heard there’s a guy who knows someone who thinks somebody knows something - on StockTwits.', 'sentiment': 1, 'timestamp': '2018-07-01T00:01:47Z'}, {'message_body': '$AMD reveal yourself!', 'sentiment': 0, 'timestamp': '2018-07-01T00:02:13Z'}, {'message_body': '$AAPL Why the drop? I warren Buffet taking out his position?', 'sentiment': 1, 'timestamp': '2018-07-01T00:03:10Z'}, {'message_body': '$BA bears have 1 reason on 06-29 to pay more attention https://dividendbot.com?s=BA', 'sentiment': -2, 'timestamp': '2018-07-01T00:04:09Z'}, {'message_body': '$BAC ok good we&#39;re not dropping in price over the weekend, lol', 'sentiment': 1, 'timestamp': '2018-07-01T00:04:17Z'}, {'message_body': '$AMAT - Daily Chart, we need to get back to above 50.', 'sentiment': 2, 'timestamp': '2018-07-01T00:08:01Z'}, {'message_body': '$GME 3% drop per week after spike... if no news in 3 months, back to 12s... if BO, then bingo... what is the odds?', 'sentiment': -2, 'timestamp': '2018-07-01T00:09:03Z'}]\n"
     ]
    }
   ],
   "source": [
    "with open(os.path.join('..', '..', 'data', 'project_6_stocktwits', 'twits.json'), 'r') as f:\n",
    "    twits = json.load(f)\n",
    "\n",
    "print(twits['data'][:10])"
   ]
  },
  {
   "cell_type": "markdown",
   "metadata": {},
   "source": [
    "### Length of Data\n",
    "Now let's look at the number of twits in dataset. Print the number of twits below."
   ]
  },
  {
   "cell_type": "code",
   "execution_count": 4,
   "metadata": {},
   "outputs": [
    {
     "name": "stdout",
     "output_type": "stream",
     "text": [
      "1548010\n"
     ]
    }
   ],
   "source": [
    "\"\"\"print out the number of twits\"\"\"\n",
    "\n",
    "# TODO Implement \n",
    "print(len(twits['data']))\n",
    "\n"
   ]
  },
  {
   "cell_type": "markdown",
   "metadata": {},
   "source": [
    "### Split Message Body and Sentiment Score"
   ]
  },
  {
   "cell_type": "code",
   "execution_count": 5,
   "metadata": {},
   "outputs": [],
   "source": [
    "messages = [twit['message_body'] for twit in twits['data']]\n",
    "# Since the sentiment scores are discrete, we'll scale the sentiments to 0 to 4 for use in our network\n",
    "sentiments = [twit['sentiment'] + 2 for twit in twits['data']]"
   ]
  },
  {
   "cell_type": "markdown",
   "metadata": {},
   "source": [
    "## Preprocessing the Data\n",
    "With our data in hand we need to preprocess our text. These twits are collected by filtering on ticker symbols where these are denoted with a leader $ symbol in the twit itself. For example,\n",
    "\n",
    "`{'message_body': 'RT @google Our annual look at the year in Google blogging (and beyond) http://t.co/sptHOAh8 $GOOG',\n",
    " 'sentiment': 0}`\n",
    "\n",
    "The ticker symbols don't provide information on the sentiment, and they are in every twit, so we should remove them. This twit also has the `@google` username, again not providing sentiment information, so we should also remove it. We also see a URL `http://t.co/sptHOAh8`. Let's remove these too.\n",
    "\n",
    "The easiest way to remove specific words or phrases is with regex using the `re` module. You can sub out specific patterns with a space:\n",
    "\n",
    "```python\n",
    "re.sub(pattern, ' ', text)\n",
    "```\n",
    "This will substitute a space with anywhere the pattern matches in the text. Later when we tokenize the text, we'll split appropriately on those spaces."
   ]
  },
  {
   "cell_type": "markdown",
   "metadata": {},
   "source": [
    "### Pre-Processing"
   ]
  },
  {
   "cell_type": "code",
   "execution_count": 6,
   "metadata": {},
   "outputs": [
    {
     "name": "stdout",
     "output_type": "stream",
     "text": [
      "[nltk_data] Downloading package wordnet to /root/nltk_data...\n",
      "[nltk_data]   Unzipping corpora/wordnet.zip.\n"
     ]
    }
   ],
   "source": [
    "nltk.download('wordnet')\n",
    "\n",
    "\n",
    "def preprocess(message):\n",
    "    \"\"\"\n",
    "    This function takes a string as input, then performs these operations: \n",
    "        - lowercase\n",
    "        - remove URLs\n",
    "        - remove ticker symbols \n",
    "        - removes punctuation\n",
    "        - tokenize by splitting the string on whitespace \n",
    "        - removes any single character tokens\n",
    "    \n",
    "    Parameters\n",
    "    ----------\n",
    "        message : The text message to be preprocessed.\n",
    "        \n",
    "    Returns\n",
    "    -------\n",
    "        tokens: The preprocessed text into tokens.\n",
    "    \"\"\" \n",
    "    #TODO: Implement \n",
    "    \n",
    "    # Lowercase the twit message\n",
    "    text = message.lower()\n",
    "    \n",
    "    # Replace URLs with a space in the message\n",
    "    #re.sub(pattern, ' ', text)\n",
    "    text = re.sub(r'http\\S+', ' ', text)\n",
    "    \n",
    "    # Replace ticker symbols with a space. The ticker symbols are \n",
    "    #any stock symbol that starts with $.\n",
    "    text = re.sub(r\"[$]\\w+\", \" \", text)\n",
    "    \n",
    "    # Replace StockTwits usernames with a space. The usernames are any word that starts with @.\n",
    "    text = re.sub(r\"[@]\\w+\", \" \", text)\n",
    "    \n",
    "    # Replace everything not a letter with a space\n",
    "    text = re.sub('[^a-zA-Z]', \" \", text)\n",
    "    \n",
    "    # Tokenize by splitting the string on whitespace into a list of words\n",
    "    tokens = re.sub(r\"\\b[a-zA-Z]\\b\", \"\", text)\n",
    "    tokens = tokens.split()\n",
    "\n",
    "    # Lemmatize words using the WordNetLemmatizer. You can ignore any word that is not longer than one character.\n",
    "    \n",
    "    wnl = nltk.stem.WordNetLemmatizer()\n",
    "    tokens = [wnl.lemmatize(w) for w in tokens]\n",
    "    \n",
    "    return tokens\n"
   ]
  },
  {
   "cell_type": "raw",
   "metadata": {},
   "source": [
    "# Preprocess All the Twits \n",
    "Now we can preprocess each of the twits in our dataset. Apply the function `preprocess` to all the twit messages."
   ]
  },
  {
   "cell_type": "code",
   "execution_count": 7,
   "metadata": {},
   "outputs": [],
   "source": [
    "# TODO Implement\n",
    "\n",
    "#As suggested by reviewer:\n",
    "tokenized = [preprocess(tweet) for tweet in messages]\n"
   ]
  },
  {
   "cell_type": "markdown",
   "metadata": {},
   "source": [
    "### Bag of Words\n",
    "Now with all of our messages tokenized, we want to create a vocabulary and count up how often each word appears in our entire corpus. Use the [`Counter`](https://docs.python.org/3.1/library/collections.html#collections.Counter) function to count up all the tokens."
   ]
  },
  {
   "cell_type": "code",
   "execution_count": 8,
   "metadata": {},
   "outputs": [],
   "source": [
    "from collections import Counter\n",
    "\n",
    "\n",
    "\"\"\"\n",
    "Create a vocabulary by using Bag of words\n",
    "\"\"\"\n",
    "\n",
    "# TODO: Implement \n",
    "tokens = []\n",
    "for token in tokenized:\n",
    "    for word in token:\n",
    "        tokens.append(word)\n",
    "\n",
    "#print(tokens)\n",
    "bow = Counter(tokens)\n",
    "#print(bow)"
   ]
  },
  {
   "cell_type": "markdown",
   "metadata": {},
   "source": [
    "### Frequency of Words Appearing in Message\n",
    "With our vocabulary, now we'll remove some of the most common words such as 'the', 'and', 'it', etc. These words don't contribute to identifying sentiment and are really common, resulting in a lot of noise in our input. If we can filter these out, then our network should have an easier time learning.\n",
    "\n",
    "We also want to remove really rare words that show up in a only a few twits. Here you'll want to divide the count of each word by the number of messages. Then remove words that only appear in some small fraction of the messages."
   ]
  },
  {
   "cell_type": "code",
   "execution_count": 9,
   "metadata": {},
   "outputs": [
    {
     "name": "stdout",
     "output_type": "stream",
     "text": [
      "['will', 'at', 'it', 'this', 'in', 'and', 'of', 'on', 'for', 'is', 'to', 'the']\n"
     ]
    },
    {
     "data": {
      "text/plain": [
       "98402"
      ]
     },
     "execution_count": 9,
     "metadata": {},
     "output_type": "execute_result"
    }
   ],
   "source": [
    "\"\"\"\n",
    "Set the following variables:\n",
    "    freqs\n",
    "    low_cutoff\n",
    "    high_cutoff\n",
    "    K_most_common\n",
    "\"\"\"\n",
    "# TODO Implement \n",
    "#\n",
    "import operator\n",
    "\n",
    "# Dictionary that contains the Frequency of words appearing in messages.\n",
    "# The key is the token and the value is the frequency of that word in the corpus.\n",
    "total_count = len(bow)\n",
    "#print(total_count)\n",
    "freqs = {word: count/total_count for word, count in bow.items()}\n",
    "\n",
    "# Float that is the frequency cutoff. Drop words with a frequency that is lower or equal to this number.\n",
    "low_cutoff = 1e-5\n",
    "\n",
    "# Integer that is the cut off for most common words. Drop words that are the `high_cutoff` most common words.\n",
    "high_cutoff = 12\n",
    "\n",
    "# The k most common words in the corpus. Use `high_cutoff` as the k.\n",
    "#GITHUB solution:   https://github.com/chricke/udacity/blob/master/AITND/Sentiment_Analysis_with_Neural_Networks/project_6_starter.ipynb\n",
    "K_most_common = sorted(freqs.items(), key=operator.itemgetter(1))[-high_cutoff:]\n",
    "K_most_common = [x[0] for x in K_most_common]\n",
    "\n",
    "filtered_words = [word for word in freqs if (freqs[word] > low_cutoff and word not in K_most_common)]\n",
    "\n",
    "print(K_most_common)\n",
    "len(filtered_words)"
   ]
  },
  {
   "cell_type": "markdown",
   "metadata": {},
   "source": [
    "### Updating Vocabulary by Removing Filtered Words\n",
    "Let's creat three variables that will help with our vocabulary."
   ]
  },
  {
   "cell_type": "code",
   "execution_count": 10,
   "metadata": {},
   "outputs": [
    {
     "data": {
      "application/vnd.jupyter.widget-view+json": {
       "model_id": "9fceabead7c447ea8c7c7288f8def64b",
       "version_major": 2,
       "version_minor": 0
      },
      "text/html": [
       "<p>Failed to display Jupyter Widget of type <code>HBox</code>.</p>\n",
       "<p>\n",
       "  If you're reading this message in the Jupyter Notebook or JupyterLab Notebook, it may mean\n",
       "  that the widgets JavaScript is still loading. If this message persists, it\n",
       "  likely means that the widgets JavaScript library is either not installed or\n",
       "  not enabled. See the <a href=\"https://ipywidgets.readthedocs.io/en/stable/user_install.html\">Jupyter\n",
       "  Widgets Documentation</a> for setup instructions.\n",
       "</p>\n",
       "<p>\n",
       "  If you're reading this message in another frontend (for example, a static\n",
       "  rendering on GitHub or <a href=\"https://nbviewer.jupyter.org/\">NBViewer</a>),\n",
       "  it may mean that your frontend doesn't currently support widgets.\n",
       "</p>\n"
      ],
      "text/plain": [
       "HBox(children=(IntProgress(value=0, max=1548010), HTML(value='')))"
      ]
     },
     "metadata": {},
     "output_type": "display_data"
    },
    {
     "name": "stdout",
     "output_type": "stream",
     "text": [
      "\n"
     ]
    }
   ],
   "source": [
    "\"\"\"\n",
    "Set the following variables:\n",
    "    vocab\n",
    "    id2vocab\n",
    "    filtered\n",
    "\"\"\"\n",
    "\n",
    "#TODO Implement\n",
    "#TQDM is actually helpful here\n",
    "from tqdm import tqdm_notebook as tqdm\n",
    "\n",
    "# A dictionary for the `filtered_words`. The key is the word and value is an id that represents the word. \n",
    "\n",
    "counts = Counter(filtered_words)\n",
    "vocab_temp = sorted(counts, key=counts.get, reverse=True)\n",
    "vocab = {word: idx for idx, word in enumerate(vocab_temp, 1)}\n",
    "\n",
    "# Reverse of the `vocab` dictionary. The key is word id and value is the word.\n",
    "id2vocab = dict(map(reversed, vocab.items()))\n",
    "\n",
    "# tokenized with the words not in `filtered_words` removed.\n",
    "filtered = [[word for word in message if word in vocab] for message in tqdm(tokenized)]\n",
    "\n"
   ]
  },
  {
   "cell_type": "markdown",
   "metadata": {},
   "source": [
    "### Balancing the classes\n",
    "Let's do a few last pre-processing steps. If we look at how our twits are labeled, we'll find that 50% of them are neutral. This means that our network will be 50% accurate just by guessing 0 every single time. To help our network learn appropriately, we'll want to balance our classes.\n",
    "That is, make sure each of our different sentiment scores show up roughly as frequently in the data.\n",
    "\n",
    "What we can do here is go through each of our examples and randomly drop twits with neutral sentiment. What should be the probability we drop these twits if we want to get around 20% neutral twits starting at 50% neutral? We should also take this opportunity to remove messages with length 0."
   ]
  },
  {
   "cell_type": "code",
   "execution_count": 11,
   "metadata": {},
   "outputs": [],
   "source": [
    "balanced = {'messages': [], 'sentiments':[]}\n",
    "\n",
    "n_neutral = sum(1 for each in sentiments if each == 2)\n",
    "N_examples = len(sentiments)\n",
    "keep_prob = (N_examples - n_neutral)/4/n_neutral\n",
    "\n",
    "for idx, sentiment in enumerate(sentiments):\n",
    "    message = filtered[idx]\n",
    "    if len(message) == 0:\n",
    "        # skip this message because it has length zero\n",
    "        continue\n",
    "    elif sentiment != 2 or random.random() < keep_prob:\n",
    "        balanced['messages'].append(message)\n",
    "        balanced['sentiments'].append(sentiment) "
   ]
  },
  {
   "cell_type": "markdown",
   "metadata": {},
   "source": [
    "If you did it correctly, you should see the following result "
   ]
  },
  {
   "cell_type": "code",
   "execution_count": 12,
   "metadata": {},
   "outputs": [
    {
     "data": {
      "text/plain": [
       "0.1953060374470888"
      ]
     },
     "execution_count": 12,
     "metadata": {},
     "output_type": "execute_result"
    }
   ],
   "source": [
    "n_neutral = sum(1 for each in balanced['sentiments'] if each == 2)\n",
    "N_examples = len(balanced['sentiments'])\n",
    "n_neutral/N_examples"
   ]
  },
  {
   "cell_type": "markdown",
   "metadata": {},
   "source": [
    "Finally let's convert our tokens into integer ids which we can pass to the network."
   ]
  },
  {
   "cell_type": "code",
   "execution_count": 13,
   "metadata": {},
   "outputs": [],
   "source": [
    "token_ids = [[vocab[word] for word in message] for message in balanced['messages']]\n",
    "sentiments = balanced['sentiments']"
   ]
  },
  {
   "cell_type": "markdown",
   "metadata": {},
   "source": [
    "## Neural Network\n",
    "Now we have our vocabulary which means we can transform our tokens into ids, which are then passed to our network. So, let's define the network now!\n",
    "\n",
    "Here is a nice diagram showing the network we'd like to build: \n",
    "\n",
    "#### Embed -> RNN -> Dense -> Softmax\n",
    "### Implement the text classifier\n",
    "Before we build text classifier, if you remember from the other network that you built in  \"Sentiment Analysis with an RNN\"  exercise  - which there, the network called \" SentimentRNN\", here we named it \"TextClassifer\" - consists of three main parts: 1) init function `__init__` 2) forward pass `forward`  3) hidden state `init_hidden`. \n",
    "\n",
    "This network is pretty similar to the network you built expect in the  `forward` pass, we use softmax instead of sigmoid. The reason we are not using sigmoid is that the output of NN is not a binary. In our network, sentiment scores have 5 possible outcomes. We are looking for an outcome with the highest probability thus softmax is a better choice."
   ]
  },
  {
   "cell_type": "code",
   "execution_count": 14,
   "metadata": {},
   "outputs": [
    {
     "name": "stdout",
     "output_type": "stream",
     "text": [
      "Training on GPU.\n"
     ]
    }
   ],
   "source": [
    "# First checking if GPU is available\n",
    "train_on_gpu=torch.cuda.is_available()\n",
    "\n",
    "if(train_on_gpu):\n",
    "    print('Training on GPU.')\n",
    "else:\n",
    "    print('No GPU available, training on CPU.')"
   ]
  },
  {
   "cell_type": "code",
   "execution_count": 15,
   "metadata": {},
   "outputs": [],
   "source": [
    "class TextClassifier(nn.Module):\n",
    "    def __init__(self, vocab_size, embed_size, lstm_size, output_size, lstm_layers=1, dropout=0.3):\n",
    "        \"\"\"\n",
    "        Initialize the model by setting up the layers.\n",
    "        \n",
    "        Parameters\n",
    "        ----------\n",
    "            vocab_size : The vocabulary size.\n",
    "            embed_size : The embedding layer size.\n",
    "            lstm_size : The LSTM layer size.\n",
    "            output_size : The output size.\n",
    "            lstm_layers : The number of LSTM layers.\n",
    "            dropout : The dropout probability.\n",
    "        \"\"\"\n",
    "        \n",
    "        super().__init__()\n",
    "        self.vocab_size = vocab_size\n",
    "        self.embed_size = embed_size\n",
    "        self.lstm_size = lstm_size\n",
    "        self.output_size = output_size\n",
    "        self.lstm_layers = lstm_layers\n",
    "        self.dropout = dropout\n",
    "        \n",
    "        # TODO Implement\n",
    "       \n",
    "        #With help from forum plus movie sentiment workbook\n",
    "        # Setup embedding layer\n",
    "        self.embedding = nn.Embedding(self.vocab_size, self.embed_size)\n",
    "        \n",
    "        # Setup additional layers\n",
    "        self.lstm = nn.LSTM(self.embed_size, self.lstm_size, self.lstm_layers, \n",
    "                            dropout=dropout, batch_first = False)\n",
    "        \n",
    "        #Set Dropout\n",
    "        self.dropout = nn.Dropout(self.dropout)\n",
    "        \n",
    "        #linear and softmax layers\n",
    "        self.fc = nn.Linear(self.lstm_size, self.output_size)\n",
    "        self.softmax = nn.LogSoftmax(dim = 1)\n",
    "        \n",
    "    def init_hidden(self, batch_size):\n",
    "        \"\"\" \n",
    "        Initializes hidden state\n",
    "        \n",
    "        Parameters\n",
    "        ----------\n",
    "            batch_size : The size of batches.\n",
    "        \n",
    "        Returns\n",
    "        -------\n",
    "            hidden_state\n",
    "            \n",
    "        \"\"\"\n",
    "        \n",
    "        # TODO Implement \n",
    "        \n",
    "        # Create two new tensors with sizes n_layers x batch_size x hidden_dim,\n",
    "        # initialized to zero, for hidden state and cell state of LSTM\n",
    "        #Modified from movie sentiment notebook\n",
    "        \n",
    "        weight = next(self.parameters()).data\n",
    "\n",
    "        hidden = (weight.new(self.lstm_layers, batch_size, self.lstm_size).zero_(),\n",
    "                  weight.new(self.lstm_layers, batch_size, self.lstm_size).zero_())\n",
    "        \n",
    "        return hidden\n",
    "\n",
    "    #Modified from movie sentiment notebook\n",
    "    def forward(self, nn_input, hidden_state):\n",
    "        \"\"\"\n",
    "        Perform a forward pass of our model on nn_input.\n",
    "        \n",
    "        Parameters\n",
    "        ----------\n",
    "            nn_input : The batch of input to the NN.\n",
    "            hidden_state : The LSTM hidden state.\n",
    "\n",
    "        Returns\n",
    "        -------\n",
    "            logps: log softmax output\n",
    "            hidden_state: The new hidden state.\n",
    "\n",
    "        \"\"\"\n",
    "        \n",
    "        # TODO Implement \n",
    "        batch_size = nn_input.size(0)\n",
    "  \n",
    "        # embeddings and lstm_out\n",
    "        nn_input = nn_input.long()\n",
    "        embeds = self.embedding(nn_input)\n",
    "        lstm_out, hidden = self.lstm(embeds, hidden_state)\n",
    "    \n",
    "        # stack up lstm outputs\n",
    "        #lstm_out = lstm_out.contiguous().view(-1, self.hidden_dim)\n",
    "        #from forums...\n",
    "        #Because of the output size change you shouldn't be reshaping the lstm_outs with .contiguous().view... instead you want to use lstm_out[-1, :, :] to obtain the last output of the sequence\n",
    "        lstm_out = lstm_out[-1,:,:] \n",
    "      \n",
    "        out = self.dropout(lstm_out)\n",
    "        out = self.fc(out)\n",
    "        \n",
    "        #Softmax function\n",
    "        log_probs = self.softmax(out)\n",
    "        \n",
    "        # return last sigmoid output and hidden state\n",
    "        return log_probs, hidden_state\n",
    "        "
   ]
  },
  {
   "cell_type": "markdown",
   "metadata": {},
   "source": [
    "### View Model"
   ]
  },
  {
   "cell_type": "code",
   "execution_count": 16,
   "metadata": {},
   "outputs": [
    {
     "name": "stdout",
     "output_type": "stream",
     "text": [
      "tensor([[-1.3358, -1.6080, -1.7828, -1.7868, -1.6040],\n",
      "        [-1.3870, -1.5039, -1.7455, -1.8315, -1.6443],\n",
      "        [-1.3460, -1.5902, -1.7862, -1.7826, -1.6093],\n",
      "        [-1.3441, -1.5327, -1.8579, -1.8064, -1.5945]])\n",
      "TextClassifier(\n",
      "  (embedding): Embedding(98402, 10)\n",
      "  (lstm): LSTM(10, 6, num_layers=2, dropout=0.1)\n",
      "  (dropout): Dropout(p=0.1)\n",
      "  (fc): Linear(in_features=6, out_features=5, bias=True)\n",
      "  (softmax): LogSoftmax()\n",
      ")\n"
     ]
    }
   ],
   "source": [
    "model = TextClassifier(len(vocab), 10, 6, 5, dropout=0.1, lstm_layers=2)\n",
    "model.embedding.weight.data.uniform_(-1, 1)\n",
    "input = torch.randint(0, 1000, (5, 4), dtype=torch.int64)\n",
    "hidden = model.init_hidden(4)\n",
    "\n",
    "logps, _ = model.forward(input, hidden)\n",
    "print(logps)\n",
    "print(model)"
   ]
  },
  {
   "cell_type": "markdown",
   "metadata": {},
   "source": [
    "## Training\n",
    "### DataLoaders and Batching\n",
    "Now we should build a generator that we can use to loop through our data. It'll be more efficient if we can pass our sequences in as batches. Our input tensors should look like `(sequence_length, batch_size)`. So if our sequences are 40 tokens long and we pass in 25 sequences, then we'd have an input size of `(40, 25)`.\n",
    "\n",
    "If we set our sequence length to 40, what do we do with messages that are more or less than 40 tokens? For messages with fewer than 40 tokens, we will pad the empty spots with zeros. We should be sure to **left** pad so that the RNN starts from nothing before going through the data. If the message has 20 tokens, then the first 20 spots of our 40 long sequence will be 0. If a message has more than 40 tokens, we'll just keep the first 40 tokens."
   ]
  },
  {
   "cell_type": "code",
   "execution_count": 17,
   "metadata": {},
   "outputs": [],
   "source": [
    "def dataloader(messages, labels, sequence_length=30, batch_size=32, shuffle=False):\n",
    "    \"\"\" \n",
    "    Build a dataloader.\n",
    "    \"\"\"\n",
    "    if shuffle:\n",
    "        indices = list(range(len(messages)))\n",
    "        random.shuffle(indices)\n",
    "        messages = [messages[idx] for idx in indices]\n",
    "        labels = [labels[idx] for idx in indices]\n",
    "\n",
    "    total_sequences = len(messages)\n",
    "\n",
    "    for ii in range(0, total_sequences, batch_size):\n",
    "        batch_messages = messages[ii: ii+batch_size]\n",
    "        \n",
    "        # First initialize a tensor of all zeros\n",
    "        batch = torch.zeros((sequence_length, len(batch_messages)), dtype=torch.int64)\n",
    "        for batch_num, tokens in enumerate(batch_messages):\n",
    "            token_tensor = torch.tensor(tokens)\n",
    "            # Left pad!\n",
    "            start_idx = max(sequence_length - len(token_tensor), 0)\n",
    "            batch[start_idx:, batch_num] = token_tensor[:sequence_length]\n",
    "        \n",
    "        label_tensor = torch.tensor(labels[ii: ii+len(batch_messages)])\n",
    "        \n",
    "        yield batch, label_tensor"
   ]
  },
  {
   "cell_type": "markdown",
   "metadata": {},
   "source": [
    "### Training and  Validation\n",
    "With our data in nice shape, we'll split it into training and validation sets."
   ]
  },
  {
   "cell_type": "code",
   "execution_count": 18,
   "metadata": {},
   "outputs": [
    {
     "name": "stdout",
     "output_type": "stream",
     "text": [
      "\t\t\tFeature Lengths:\n",
      "Train set: \t\t722673 \n",
      "Validation set: \t309717\n"
     ]
    }
   ],
   "source": [
    "\"\"\"\n",
    "Split data into training and validation datasets. Use an appropriate split size.\n",
    "The features are the `token_ids` and the labels are the `sentiments`.\n",
    "\"\"\"   \n",
    "\n",
    "# TODO Implement\n",
    "\n",
    "split_frac = 0.7\n",
    "\n",
    "token_temp_ids = token_ids[:100000]\n",
    "sentiments_temp_ids = sentiments[:100000]\n",
    "\n",
    "## split data into training, validation, and test data (features and labels, x and y)\n",
    "\n",
    "split_idx = int(len(token_ids)* split_frac)\n",
    "train_features, valid_features = token_ids[:split_idx], token_ids[split_idx:]\n",
    "train_labels, valid_labels = sentiments[:split_idx], sentiments[split_idx:]\n",
    "\n",
    "# split_idx = int(len(token_temp_ids)* split_frac)\n",
    "# train_features, valid_features = token_temp_ids[:split_idx], token_temp_ids[split_idx:]\n",
    "# train_labels, valid_labels = sentiments_temp_ids[:split_idx], sentiments_temp_ids[split_idx:]\n",
    "\n",
    "# test_idx = int(len(remaining_x)*0.5)\n",
    "# val_x, test_x = remaining_x[:test_idx], remaining_x[test_idx:]\n",
    "# val_y, test_y = remaining_y[:test_idx], remaining_y[test_idx:]\n",
    "\n",
    "## print out the shapes of your resultant feature data\n",
    "print(\"\\t\\t\\tFeature Lengths:\")\n",
    "print(\"Train set: \\t\\t{}\".format(len(train_features)), \n",
    "      \"\\nValidation set: \\t{}\".format(len(valid_features)))#,\n",
    "      #\"\\nTest set: \\t\\t{}\".format(test_x.shape))\n",
    "\n"
   ]
  },
  {
   "cell_type": "code",
   "execution_count": 19,
   "metadata": {},
   "outputs": [],
   "source": [
    "text_batch, labels = next(iter(dataloader(train_features, train_labels, sequence_length=20, batch_size=64)))\n",
    "model = TextClassifier(len(vocab)+1, 200, 128, 5, dropout=0.)\n",
    "hidden = model.init_hidden(64)\n",
    "logps, hidden = model.forward(text_batch, hidden)"
   ]
  },
  {
   "cell_type": "markdown",
   "metadata": {},
   "source": [
    "### Training\n",
    "It's time to train the neural network!"
   ]
  },
  {
   "cell_type": "code",
   "execution_count": 20,
   "metadata": {},
   "outputs": [
    {
     "name": "stdout",
     "output_type": "stream",
     "text": [
      "Device:  cuda\n"
     ]
    }
   ],
   "source": [
    "device = torch.device(\"cuda\" if torch.cuda.is_available() else \"cpu\")\n",
    "\n",
    "model = TextClassifier(len(vocab)+1, 1024, 512, 5, lstm_layers=2, dropout=0.2)\n",
    "model.embedding.weight.data.uniform_(-1, 1)\n",
    "model.to(device)\n",
    "print(\"Device: \", device)"
   ]
  },
  {
   "cell_type": "code",
   "execution_count": null,
   "metadata": {},
   "outputs": [
    {
     "name": "stdout",
     "output_type": "stream",
     "text": [
      "Starting epoch 1\n",
      "Epoch: 1/2... Step: 100... Training Loss: 1.110809... Validation Loss: 1.281974 Accuracy: 46.718305\n",
      "Epoch: 1/2... Step: 200... Training Loss: 1.235350... Validation Loss: 1.212013 Accuracy: 50.933107\n",
      "Epoch: 1/2... Step: 300... Training Loss: 1.218251... Validation Loss: 1.182137 Accuracy: 51.529456\n",
      "Epoch: 1/2... Step: 400... Training Loss: 1.127223... Validation Loss: 1.184767 Accuracy: 51.536559\n",
      "Epoch: 1/2... Step: 500... Training Loss: 1.199723... Validation Loss: 1.181605 Accuracy: 51.913031\n",
      "Epoch: 1/2... Step: 600... Training Loss: 1.149204... Validation Loss: 1.173656 Accuracy: 52.335350\n",
      "Epoch: 1/2... Step: 700... Training Loss: 1.148110... Validation Loss: 1.164293 Accuracy: 52.486133\n",
      "Epoch: 1/2... Step: 800... Training Loss: 1.146061... Validation Loss: 1.155830 Accuracy: 52.656933\n",
      "Epoch: 1/2... Step: 900... Training Loss: 1.117835... Validation Loss: 1.147734 Accuracy: 53.069889\n",
      "Epoch: 1/2... Step: 1000... Training Loss: 1.108506... Validation Loss: 1.141771 Accuracy: 53.586488\n",
      "Epoch: 1/2... Step: 1100... Training Loss: 1.074029... Validation Loss: 1.140337 Accuracy: 54.051750\n",
      "Epoch: 1/2... Step: 1200... Training Loss: 1.068433... Validation Loss: 1.148532 Accuracy: 54.013005\n",
      "Epoch: 1/2... Step: 1300... Training Loss: 1.100615... Validation Loss: 1.150750 Accuracy: 54.032701\n",
      "Epoch: 1/2... Step: 1400... Training Loss: 1.107497... Validation Loss: 1.133381 Accuracy: 54.657463\n",
      "Epoch: 1/2... Step: 1500... Training Loss: 1.060564... Validation Loss: 1.119269 Accuracy: 55.285130\n",
      "Epoch: 1/2... Step: 1600... Training Loss: 1.109910... Validation Loss: 1.110649 Accuracy: 55.772348\n",
      "Epoch: 1/2... Step: 1700... Training Loss: 1.042781... Validation Loss: 1.105232 Accuracy: 55.931848\n",
      "Epoch: 1/2... Step: 1800... Training Loss: 1.029717... Validation Loss: 1.100879 Accuracy: 55.879865\n",
      "Epoch: 1/2... Step: 1900... Training Loss: 1.052275... Validation Loss: 1.095024 Accuracy: 55.797532\n",
      "Epoch: 1/2... Step: 2000... Training Loss: 1.064313... Validation Loss: 1.091586 Accuracy: 55.856618\n",
      "Epoch: 1/2... Step: 2100... Training Loss: 1.074698... Validation Loss: 1.089221 Accuracy: 55.728114\n",
      "Epoch: 1/2... Step: 2200... Training Loss: 1.009751... Validation Loss: 1.086070 Accuracy: 55.716168\n",
      "Epoch: 1/2... Step: 2300... Training Loss: 0.979355... Validation Loss: 1.082062 Accuracy: 55.876959\n",
      "Epoch: 1/2... Step: 2400... Training Loss: 1.042682... Validation Loss: 1.079153 Accuracy: 56.232767\n",
      "Epoch: 1/2... Step: 2500... Training Loss: 1.053479... Validation Loss: 1.077586 Accuracy: 56.633777\n",
      "Epoch: 1/2... Step: 2600... Training Loss: 0.958391... Validation Loss: 1.076852 Accuracy: 57.215273\n",
      "Epoch: 1/2... Step: 2700... Training Loss: 1.016782... Validation Loss: 1.074774 Accuracy: 57.563978\n",
      "Epoch: 1/2... Step: 2800... Training Loss: 1.011482... Validation Loss: 1.070240 Accuracy: 57.556551\n",
      "Epoch: 1/2... Step: 2900... Training Loss: 1.070709... Validation Loss: 1.063392 Accuracy: 57.699585\n",
      "Epoch: 1/2... Step: 3000... Training Loss: 0.999696... Validation Loss: 1.061579 Accuracy: 57.376065\n",
      "Epoch: 1/2... Step: 3100... Training Loss: 1.020980... Validation Loss: 1.060164 Accuracy: 57.169748\n",
      "Epoch: 1/2... Step: 3200... Training Loss: 1.040112... Validation Loss: 1.057038 Accuracy: 57.273714\n",
      "Epoch: 1/2... Step: 3300... Training Loss: 1.004630... Validation Loss: 1.052651 Accuracy: 57.506829\n",
      "Epoch: 1/2... Step: 3400... Training Loss: 1.012785... Validation Loss: 1.050583 Accuracy: 57.685701\n",
      "Epoch: 1/2... Step: 3500... Training Loss: 1.010010... Validation Loss: 1.048443 Accuracy: 57.904933\n",
      "Epoch: 1/2... Step: 3600... Training Loss: 0.969476... Validation Loss: 1.044841 Accuracy: 58.146766\n",
      "Epoch: 1/2... Step: 3700... Training Loss: 1.023516... Validation Loss: 1.042076 Accuracy: 58.325961\n",
      "Epoch: 1/2... Step: 3800... Training Loss: 1.002862... Validation Loss: 1.040542 Accuracy: 58.270750\n",
      "Epoch: 1/2... Step: 3900... Training Loss: 1.002524... Validation Loss: 1.038868 Accuracy: 58.123842\n",
      "Epoch: 1/2... Step: 4000... Training Loss: 0.996885... Validation Loss: 1.034464 Accuracy: 58.214569\n",
      "Epoch: 1/2... Step: 4100... Training Loss: 0.997485... Validation Loss: 1.029745 Accuracy: 58.440904\n",
      "Epoch: 1/2... Step: 4200... Training Loss: 0.999376... Validation Loss: 1.025798 Accuracy: 58.723419\n",
      "Epoch: 1/2... Step: 4300... Training Loss: 0.996413... Validation Loss: 1.022585 Accuracy: 59.028859\n",
      "Epoch: 1/2... Step: 4400... Training Loss: 0.985746... Validation Loss: 1.021758 Accuracy: 59.325580\n",
      "Epoch: 1/2... Step: 4500... Training Loss: 1.018862... Validation Loss: 1.020752 Accuracy: 59.478300\n",
      "Epoch: 1/2... Step: 4600... Training Loss: 0.948435... Validation Loss: 1.019230 Accuracy: 59.582588\n",
      "Epoch: 1/2... Step: 4700... Training Loss: 1.024008... Validation Loss: 1.017072 Accuracy: 59.457959\n",
      "Epoch: 1/2... Step: 4800... Training Loss: 1.007195... Validation Loss: 1.016417 Accuracy: 59.290710\n",
      "Epoch: 1/2... Step: 4900... Training Loss: 0.963345... Validation Loss: 1.017738 Accuracy: 59.096016\n",
      "Epoch: 1/2... Step: 5000... Training Loss: 0.978189... Validation Loss: 1.017084 Accuracy: 59.060500\n",
      "Epoch: 1/2... Step: 5100... Training Loss: 1.009596... Validation Loss: 1.012904 Accuracy: 59.388218\n",
      "Epoch: 1/2... Step: 5200... Training Loss: 0.957456... Validation Loss: 1.008969 Accuracy: 59.632956\n",
      "Epoch: 1/2... Step: 5300... Training Loss: 0.949664... Validation Loss: 1.003250 Accuracy: 60.096927\n",
      "Epoch: 1/2... Step: 5400... Training Loss: 0.974943... Validation Loss: 0.999236 Accuracy: 60.424967\n",
      "Epoch: 1/2... Step: 5500... Training Loss: 0.957403... Validation Loss: 0.996091 Accuracy: 60.629024\n",
      "Epoch: 1/2... Step: 5600... Training Loss: 0.980070... Validation Loss: 0.994065 Accuracy: 60.794981\n",
      "Epoch: 1/2... Step: 5700... Training Loss: 0.952503... Validation Loss: 0.993093 Accuracy: 60.850839\n",
      "Epoch: 1/2... Step: 5800... Training Loss: 1.004067... Validation Loss: 0.992560 Accuracy: 60.710711\n",
      "Epoch: 1/2... Step: 5900... Training Loss: 1.010132... Validation Loss: 0.992925 Accuracy: 60.537328\n",
      "Epoch: 1/2... Step: 6000... Training Loss: 0.970357... Validation Loss: 0.989370 Accuracy: 60.496645\n",
      "Epoch: 1/2... Step: 6100... Training Loss: 0.920030... Validation Loss: 0.985256 Accuracy: 60.593508\n",
      "Epoch: 1/2... Step: 6200... Training Loss: 0.932005... Validation Loss: 0.981799 Accuracy: 60.806282\n",
      "Epoch: 1/2... Step: 6300... Training Loss: 0.931600... Validation Loss: 0.977123 Accuracy: 61.117856\n",
      "Epoch: 1/2... Step: 6400... Training Loss: 0.903610... Validation Loss: 0.973399 Accuracy: 61.533718\n",
      "Epoch: 1/2... Step: 6500... Training Loss: 0.872449... Validation Loss: 0.975250 Accuracy: 61.624123\n",
      "Epoch: 1/2... Step: 6600... Training Loss: 0.955788... Validation Loss: 0.980776 Accuracy: 61.356137\n",
      "Epoch: 1/2... Step: 6700... Training Loss: 0.915234... Validation Loss: 0.982742 Accuracy: 61.292853\n",
      "Epoch: 1/2... Step: 6800... Training Loss: 0.882385... Validation Loss: 0.980820 Accuracy: 61.396496\n",
      "Epoch: 1/2... Step: 6900... Training Loss: 0.943208... Validation Loss: 0.975329 Accuracy: 61.573754\n",
      "Epoch: 1/2... Step: 7000... Training Loss: 0.953005... Validation Loss: 0.970345 Accuracy: 61.577306\n",
      "Epoch: 1/2... Step: 7100... Training Loss: 0.859009... Validation Loss: 0.970695 Accuracy: 61.399079\n",
      "Epoch: 1/2... Step: 7200... Training Loss: 0.850716... Validation Loss: 0.976311 Accuracy: 60.989352\n",
      "Epoch: 1/2... Step: 7300... Training Loss: 0.905875... Validation Loss: 0.974519 Accuracy: 61.042303\n",
      "Epoch: 1/2... Step: 7400... Training Loss: 0.914142... Validation Loss: 0.968672 Accuracy: 61.318361\n",
      "Epoch: 1/2... Step: 7500... Training Loss: 0.898130... Validation Loss: 0.970215 Accuracy: 61.463654\n",
      "Epoch: 1/2... Step: 7600... Training Loss: 0.981934... Validation Loss: 0.976695 Accuracy: 61.147883\n",
      "Epoch: 1/2... Step: 7700... Training Loss: 0.941295... Validation Loss: 0.982961 Accuracy: 60.789815\n",
      "Epoch: 1/2... Step: 7800... Training Loss: 0.940354... Validation Loss: 0.980717 Accuracy: 60.959970\n",
      "Epoch: 1/2... Step: 7900... Training Loss: 0.909523... Validation Loss: 0.971185 Accuracy: 61.410057\n",
      "Epoch: 1/2... Step: 8000... Training Loss: 0.919018... Validation Loss: 0.961818 Accuracy: 61.739389\n",
      "Epoch: 1/2... Step: 8100... Training Loss: 0.947723... Validation Loss: 0.954361 Accuracy: 62.075178\n",
      "Epoch: 1/2... Step: 8200... Training Loss: 0.958473... Validation Loss: 0.951268 Accuracy: 62.151376\n",
      "Epoch: 1/2... Step: 8300... Training Loss: 0.881159... Validation Loss: 0.951779 Accuracy: 61.977024\n",
      "Epoch: 1/2... Step: 8400... Training Loss: 0.899517... Validation Loss: 0.953170 Accuracy: 61.880485\n",
      "Epoch: 1/2... Step: 8500... Training Loss: 0.929289... Validation Loss: 0.951359 Accuracy: 61.977024\n",
      "Epoch: 1/2... Step: 8600... Training Loss: 0.915417... Validation Loss: 0.949937 Accuracy: 62.176238\n",
      "Epoch: 1/2... Step: 8700... Training Loss: 0.918792... Validation Loss: 0.949514 Accuracy: 62.281495\n",
      "Epoch: 1/2... Step: 8800... Training Loss: 0.918131... Validation Loss: 0.946305 Accuracy: 62.583705\n",
      "Epoch: 1/2... Step: 8900... Training Loss: 0.880493... Validation Loss: 0.945821 Accuracy: 62.727384\n",
      "Epoch: 1/2... Step: 9000... Training Loss: 0.910107... Validation Loss: 0.947042 Accuracy: 62.457461\n",
      "Epoch: 1/2... Step: 9100... Training Loss: 0.879212... Validation Loss: 0.949273 Accuracy: 62.282463\n",
      "Epoch: 1/2... Step: 9200... Training Loss: 0.902989... Validation Loss: 0.947104 Accuracy: 62.360599\n",
      "Epoch: 1/2... Step: 9300... Training Loss: 0.900652... Validation Loss: 0.941001 Accuracy: 62.590163\n",
      "Epoch: 1/2... Step: 9400... Training Loss: 0.940897... Validation Loss: 0.935697 Accuracy: 62.796479\n",
      "Epoch: 1/2... Step: 9500... Training Loss: 0.863421... Validation Loss: 0.933607 Accuracy: 62.939190\n",
      "Epoch: 1/2... Step: 9600... Training Loss: 0.905658... Validation Loss: 0.933543 Accuracy: 62.838453\n",
      "Epoch: 1/2... Step: 9700... Training Loss: 0.907243... Validation Loss: 0.933000 Accuracy: 62.847816\n",
      "Epoch: 1/2... Step: 9800... Training Loss: 0.927981... Validation Loss: 0.930070 Accuracy: 62.955334\n",
      "Epoch: 1/2... Step: 9900... Training Loss: 0.924514... Validation Loss: 0.926124 Accuracy: 63.287894\n",
      "Epoch: 1/2... Step: 10000... Training Loss: 0.914196... Validation Loss: 0.923803 Accuracy: 63.481942\n",
      "Epoch: 1/2... Step: 10100... Training Loss: 0.913352... Validation Loss: 0.923878 Accuracy: 63.578481\n",
      "Epoch: 1/2... Step: 10200... Training Loss: 0.916058... Validation Loss: 0.924723 Accuracy: 63.636276\n",
      "Epoch: 1/2... Step: 10300... Training Loss: 0.851886... Validation Loss: 0.924083 Accuracy: 63.696976\n",
      "Epoch: 1/2... Step: 10400... Training Loss: 0.899811... Validation Loss: 0.921666 Accuracy: 63.806107\n",
      "Epoch: 1/2... Step: 10500... Training Loss: 0.964728... Validation Loss: 0.917341 Accuracy: 63.945589\n",
      "Epoch: 1/2... Step: 10600... Training Loss: 0.905664... Validation Loss: 0.914348 Accuracy: 63.974325\n",
      "Epoch: 1/2... Step: 10700... Training Loss: 0.858001... Validation Loss: 0.913731 Accuracy: 63.969805\n",
      "Epoch: 1/2... Step: 10800... Training Loss: 0.864618... Validation Loss: 0.913650 Accuracy: 63.996603\n",
      "Epoch: 1/2... Step: 10900... Training Loss: 0.849515... Validation Loss: 0.912333 Accuracy: 64.117681\n",
      "Epoch: 1/2... Step: 11000... Training Loss: 0.892038... Validation Loss: 0.913407 Accuracy: 64.122201\n",
      "Epoch: 1/2... Step: 11100... Training Loss: 0.891187... Validation Loss: 0.914684 Accuracy: 64.140605\n",
      "Epoch: 1/2... Step: 11200... Training Loss: 0.859601... Validation Loss: 0.915605 Accuracy: 64.067313\n",
      "Epoch: 1/2... Step: 11300... Training Loss: 0.875071... Validation Loss: 0.914023 Accuracy: 64.111547\n",
      "Epoch: 1/2... Step: 11400... Training Loss: 0.866587... Validation Loss: 0.912344 Accuracy: 64.178704\n",
      "Epoch: 1/2... Step: 11500... Training Loss: 0.910389... Validation Loss: 0.912846 Accuracy: 64.272338\n",
      "Epoch: 1/2... Step: 11600... Training Loss: 0.851448... Validation Loss: 0.911003 Accuracy: 64.510296\n",
      "Epoch: 1/2... Step: 11700... Training Loss: 0.870688... Validation Loss: 0.909653 Accuracy: 64.532575\n",
      "Epoch: 1/2... Step: 11800... Training Loss: 0.884055... Validation Loss: 0.909824 Accuracy: 64.555822\n",
      "Epoch: 1/2... Step: 11900... Training Loss: 0.844676... Validation Loss: 0.909475 Accuracy: 64.526763\n",
      "Epoch: 1/2... Step: 12000... Training Loss: 0.843327... Validation Loss: 0.908166 Accuracy: 64.564216\n",
      "Epoch: 1/2... Step: 12100... Training Loss: 0.924223... Validation Loss: 0.908039 Accuracy: 64.353702\n",
      "Epoch: 1/2... Step: 12200... Training Loss: 0.853834... Validation Loss: 0.908690 Accuracy: 64.159655\n",
      "Epoch: 1/2... Step: 12300... Training Loss: 0.844330... Validation Loss: 0.908691 Accuracy: 64.024048\n",
      "Epoch: 1/2... Step: 12400... Training Loss: 0.871751... Validation Loss: 0.905683 Accuracy: 63.992729\n",
      "Epoch: 1/2... Step: 12500... Training Loss: 0.864478... Validation Loss: 0.899644 Accuracy: 64.327872\n",
      "Epoch: 1/2... Step: 12600... Training Loss: 0.855662... Validation Loss: 0.895896 Accuracy: 64.556790\n",
      "Epoch: 1/2... Step: 12700... Training Loss: 0.868010... Validation Loss: 0.895117 Accuracy: 64.706927\n",
      "Epoch: 1/2... Step: 12800... Training Loss: 0.859486... Validation Loss: 0.896291 Accuracy: 64.779251\n",
      "Epoch: 1/2... Step: 12900... Training Loss: 0.900095... Validation Loss: 0.897191 Accuracy: 64.902912\n",
      "Epoch: 1/2... Step: 13000... Training Loss: 0.878356... Validation Loss: 0.897870 Accuracy: 64.870624\n",
      "Epoch: 1/2... Step: 13100... Training Loss: 0.840877... Validation Loss: 0.898618 Accuracy: 64.840597\n",
      "Epoch: 1/2... Step: 13200... Training Loss: 0.878024... Validation Loss: 0.894907 Accuracy: 64.854481\n",
      "Epoch: 1/2... Step: 13300... Training Loss: 0.811726... Validation Loss: 0.892441 Accuracy: 64.858032\n",
      "Epoch: 1/2... Step: 13400... Training Loss: 0.821490... Validation Loss: 0.892139 Accuracy: 64.891288\n",
      "Epoch: 1/2... Step: 13500... Training Loss: 0.862580... Validation Loss: 0.892311 Accuracy: 64.779574\n",
      "Epoch: 1/2... Step: 13600... Training Loss: 0.871520... Validation Loss: 0.893948 Accuracy: 64.657850\n",
      "Epoch: 1/2... Step: 13700... Training Loss: 0.865278... Validation Loss: 0.895719 Accuracy: 64.644612\n",
      "Epoch: 1/2... Step: 13800... Training Loss: 0.848677... Validation Loss: 0.895510 Accuracy: 64.728237\n",
      "Epoch: 1/2... Step: 13900... Training Loss: 0.858051... Validation Loss: 0.888391 Accuracy: 65.003648\n",
      "Epoch: 1/2... Step: 14000... Training Loss: 0.875241... Validation Loss: 0.883563 Accuracy: 65.339115\n",
      "Epoch: 1/2... Step: 14100... Training Loss: 0.894953... Validation Loss: 0.886203 Accuracy: 65.320065\n",
      "Epoch: 1/2... Step: 14200... Training Loss: 0.873850... Validation Loss: 0.889452 Accuracy: 65.180907\n",
      "Epoch: 1/2... Step: 14300... Training Loss: 0.882559... Validation Loss: 0.887359 Accuracy: 65.339115\n",
      "Epoch: 1/2... Step: 14400... Training Loss: 0.901138... Validation Loss: 0.888578 Accuracy: 65.390775\n",
      "Epoch: 1/2... Step: 14500... Training Loss: 0.845248... Validation Loss: 0.889733 Accuracy: 65.359779\n",
      "Epoch: 1/2... Step: 14600... Training Loss: 0.844057... Validation Loss: 0.888012 Accuracy: 65.455673\n",
      "Epoch: 1/2... Step: 14700... Training Loss: 0.851401... Validation Loss: 0.884352 Accuracy: 65.545755\n",
      "Epoch: 1/2... Step: 14800... Training Loss: 0.853279... Validation Loss: 0.885845 Accuracy: 65.447278\n",
      "Epoch: 1/2... Step: 14900... Training Loss: 0.800928... Validation Loss: 0.888476 Accuracy: 65.289392\n",
      "Epoch: 1/2... Step: 15000... Training Loss: 0.797938... Validation Loss: 0.883480 Accuracy: 65.587405\n",
      "Epoch: 1/2... Step: 15100... Training Loss: 0.815276... Validation Loss: 0.879385 Accuracy: 65.677164\n",
      "Epoch: 1/2... Step: 15200... Training Loss: 0.867509... Validation Loss: 0.881054 Accuracy: 65.528965\n",
      "Epoch: 1/2... Step: 15300... Training Loss: 0.893525... Validation Loss: 0.882592 Accuracy: 65.518633\n",
      "Epoch: 1/2... Step: 15400... Training Loss: 0.940426... Validation Loss: 0.877079 Accuracy: 65.699766\n",
      "Epoch: 1/2... Step: 15500... Training Loss: 0.839434... Validation Loss: 0.871394 Accuracy: 65.812772\n",
      "Epoch: 1/2... Step: 15600... Training Loss: 0.840847... Validation Loss: 0.872865 Accuracy: 65.529934\n",
      "Epoch: 1/2... Step: 15700... Training Loss: 0.837078... Validation Loss: 0.880077 Accuracy: 64.743412\n",
      "Epoch: 1/2... Step: 15800... Training Loss: 0.805950... Validation Loss: 0.884668 Accuracy: 64.224553\n",
      "Epoch: 1/2... Step: 15900... Training Loss: 0.866368... Validation Loss: 0.877932 Accuracy: 64.920024\n",
      "Epoch: 1/2... Step: 16000... Training Loss: 0.820666... Validation Loss: 0.870252 Accuracy: 65.654240\n",
      "Epoch: 1/2... Step: 16100... Training Loss: 0.848868... Validation Loss: 0.869962 Accuracy: 65.874763\n",
      "Epoch: 1/2... Step: 16200... Training Loss: 0.818794... Validation Loss: 0.874210 Accuracy: 65.935787\n",
      "Epoch: 1/2... Step: 16300... Training Loss: 0.833070... Validation Loss: 0.877067 Accuracy: 65.891230\n",
      "Epoch: 1/2... Step: 16400... Training Loss: 0.884421... Validation Loss: 0.873463 Accuracy: 65.982926\n",
      "Epoch: 1/2... Step: 16500... Training Loss: 0.784433... Validation Loss: 0.870422 Accuracy: 65.987770\n",
      "Epoch: 1/2... Step: 16600... Training Loss: 0.813883... Validation Loss: 0.871885 Accuracy: 65.696537\n",
      "Epoch: 1/2... Step: 16700... Training Loss: 0.825120... Validation Loss: 0.878599 Accuracy: 65.363976\n",
      "Epoch: 1/2... Step: 16800... Training Loss: 0.804710... Validation Loss: 0.882483 Accuracy: 65.268728\n",
      "Epoch: 1/2... Step: 16900... Training Loss: 0.823946... Validation Loss: 0.880901 Accuracy: 65.465682\n",
      "Epoch: 1/2... Step: 17000... Training Loss: 0.777235... Validation Loss: 0.872252 Accuracy: 66.119179\n",
      "Epoch: 1/2... Step: 17100... Training Loss: 0.820067... Validation Loss: 0.867747 Accuracy: 66.301281\n",
      "Epoch: 1/2... Step: 17200... Training Loss: 0.809999... Validation Loss: 0.869163 Accuracy: 66.259630\n",
      "Epoch: 1/2... Step: 17300... Training Loss: 0.815897... Validation Loss: 0.871414 Accuracy: 66.093995\n",
      "Epoch: 1/2... Step: 17400... Training Loss: 0.848636... Validation Loss: 0.865937 Accuracy: 66.387488\n",
      "Epoch: 1/2... Step: 17500... Training Loss: 0.836612... Validation Loss: 0.861324 Accuracy: 66.567329\n",
      "Epoch: 1/2... Step: 17600... Training Loss: 0.793474... Validation Loss: 0.858648 Accuracy: 66.585410\n",
      "Epoch: 1/2... Step: 17700... Training Loss: 0.783254... Validation Loss: 0.859275 Accuracy: 66.347774\n",
      "Epoch: 1/2... Step: 17800... Training Loss: 0.861264... Validation Loss: 0.860512 Accuracy: 66.045241\n",
      "Epoch: 1/2... Step: 17900... Training Loss: 0.822337... Validation Loss: 0.860114 Accuracy: 66.036846\n",
      "Epoch: 1/2... Step: 18000... Training Loss: 0.814569... Validation Loss: 0.859560 Accuracy: 66.278679\n",
      "Epoch: 1/2... Step: 18100... Training Loss: 0.814550... Validation Loss: 0.861132 Accuracy: 66.325173\n",
      "Epoch: 1/2... Step: 18200... Training Loss: 0.793657... Validation Loss: 0.862703 Accuracy: 66.538270\n",
      "Epoch: 1/2... Step: 18300... Training Loss: 0.838803... Validation Loss: 0.861461 Accuracy: 66.660640\n",
      "Epoch: 1/2... Step: 18400... Training Loss: 0.804333... Validation Loss: 0.859309 Accuracy: 66.718757\n",
      "Epoch: 1/2... Step: 18500... Training Loss: 0.815955... Validation Loss: 0.858975 Accuracy: 66.687115\n",
      "Epoch: 1/2... Step: 18600... Training Loss: 0.809992... Validation Loss: 0.859140 Accuracy: 66.563777\n",
      "Epoch: 1/2... Step: 18700... Training Loss: 0.855764... Validation Loss: 0.858431 Accuracy: 66.576692\n",
      "Epoch: 1/2... Step: 18800... Training Loss: 0.832996... Validation Loss: 0.857745 Accuracy: 66.623186\n",
      "Epoch: 1/2... Step: 18900... Training Loss: 0.865146... Validation Loss: 0.856920 Accuracy: 66.626092\n",
      "Epoch: 1/2... Step: 19000... Training Loss: 0.777495... Validation Loss: 0.856382 Accuracy: 66.545696\n",
      "Epoch: 1/2... Step: 19100... Training Loss: 0.815928... Validation Loss: 0.854536 Accuracy: 66.627706\n",
      "Epoch: 1/2... Step: 19200... Training Loss: 0.852165... Validation Loss: 0.851322 Accuracy: 66.831440\n",
      "Epoch: 1/2... Step: 19300... Training Loss: 0.820596... Validation Loss: 0.849475 Accuracy: 66.984806\n",
      "Epoch: 1/2... Step: 19400... Training Loss: 0.811359... Validation Loss: 0.849397 Accuracy: 66.968016\n",
      "Epoch: 1/2... Step: 19500... Training Loss: 0.826139... Validation Loss: 0.850402 Accuracy: 66.932500\n",
      "Epoch: 1/2... Step: 19600... Training Loss: 0.828324... Validation Loss: 0.850374 Accuracy: 66.831440\n",
      "Epoch: 1/2... Step: 19700... Training Loss: 0.802154... Validation Loss: 0.849200 Accuracy: 66.842741\n",
      "Epoch: 1/2... Step: 19800... Training Loss: 0.784379... Validation Loss: 0.849004 Accuracy: 66.756533\n",
      "Epoch: 1/2... Step: 19900... Training Loss: 0.790026... Validation Loss: 0.850632 Accuracy: 66.720694\n"
     ]
    }
   ],
   "source": [
    "\"\"\"\n",
    "Train your model with dropout. Make sure to clip your gradients.\n",
    "Print the training loss, validation loss, and validation accuracy for every 100 steps.\n",
    "\"\"\"\n",
    "import numpy as np\n",
    "epochs = 2\n",
    "batch_size = 1024\n",
    "learning_rate = 0.001\n",
    "\n",
    "#Clipping parameter\n",
    "clip = 5\n",
    "\n",
    "print_every = 100\n",
    "criterion = nn.NLLLoss()\n",
    "optimizer = optim.Adam(model.parameters(), lr=learning_rate)\n",
    "model.train()\n",
    "\n",
    "for epoch in range(epochs):\n",
    "    print('Starting epoch {}'.format(epoch + 1))\n",
    "    \n",
    "    steps = 0\n",
    "    for text_batch, labels in dataloader(\n",
    "            train_features, train_labels, batch_size=batch_size, \n",
    "        sequence_length=20, shuffle=True):\n",
    "        steps += 100\n",
    "        model.zero_grad()\n",
    "        hidden = model.init_hidden(batch_size = labels.shape[0])\n",
    "        \n",
    "        # Set Device\n",
    "        text_batch, labels = text_batch.to(device), labels.to(device)\n",
    "        \n",
    "        for each in hidden:\n",
    "            each.to(device)\n",
    "        \n",
    "        # TODO Implement: Train Model\n",
    "        correct = 0\n",
    "        total = 1\n",
    "        \n",
    "        #model.zero_grad()\n",
    "        output, hidden = model(text_batch, hidden)\n",
    "        \n",
    "        loss = criterion(output.squeeze(), labels)\n",
    "        loss.backward()\n",
    "        \n",
    "        #Clip gradient\n",
    "        nn.utils.clip_grad_norm_(model.parameters(), clip)\n",
    "        optimizer.step()\n",
    "        \n",
    "        if steps % print_every == 0:\n",
    "            \n",
    "            # TODO Implement: Print metrics\n",
    "            #TOTAL Frankenstein combination of suggestions from the student hub\n",
    "            \n",
    "            # Get validation loss\n",
    "            val_h = model.init_hidden(batch_size=labels.shape[0])\n",
    "            val_losses = []\n",
    "            model.eval()\n",
    "            \n",
    "            #with torch.no_grad():\n",
    "            for inputs, labels in dataloader(valid_features,\n",
    "                                             valid_labels,\n",
    "                                             batch_size = batch_size): #,\n",
    "                                             #value of 20 comes from above\n",
    "                                             #sequence_length = 20,\n",
    "                                             #shuffle = True):\n",
    "                val_h = model.init_hidden(batch_size=labels.shape[0])\n",
    "                \n",
    "                # Creating new variables for the hidden state, otherwise\n",
    "                # we'd backprop through the entire training history\n",
    "                inputs, labels = inputs.to(device), labels.to(device)\n",
    "                \n",
    "                for each in val_h:\n",
    "                    each.to(device)\n",
    "#                     if(train_on_gpu):\n",
    "#                         inputs, labels = inputs.cuda(), labels.cuda()\n",
    "\n",
    "                output, val_h = model(inputs, val_h)\n",
    "                val_loss = criterion(output.squeeze(), labels)\n",
    "\n",
    "                val_losses.append(val_loss.item())\n",
    "                \n",
    "                #From pytorch docs -- https://pytorch.org/tutorials/beginner/blitz/cifar10_tutorial.html\n",
    "                _, predicted = torch.max(output.data, 1)\n",
    "                total += labels.size(0)\n",
    "                correct += (predicted == labels).sum().item()\n",
    "                #Another way to accomplish this:\n",
    "#                 topval, topclass = torch.exp(output).topk(1)\n",
    "#                 correct_count += torch.sum(topclass.squeeze() == labels)\n",
    "\n",
    "            model.train()\n",
    "            \n",
    "            print(\"Epoch: {}/{}...\".format(epoch + 1, epochs),\n",
    "                  \"Step: {}...\".format(steps),\n",
    "                  \"Training Loss: {:.6f}...\".format(loss.item()),\n",
    "                  \"Validation Loss: {:.6f}\".format(np.mean(val_losses)),\n",
    "                  \"Accuracy: {:.6f}\".format(100 * correct/total))\n",
    "            \n",
    "print(\"Training completed.\")"
   ]
  },
  {
   "cell_type": "markdown",
   "metadata": {},
   "source": [
    "## Making Predictions\n",
    "### Prediction \n",
    "Okay, now that you have a trained model, try it on some new twits and see if it works appropriately. Remember that for any new text, you'll need to preprocess it first before passing it to the network. Implement the `predict` function to generate the prediction vector from a message."
   ]
  },
  {
   "cell_type": "code",
   "execution_count": 50,
   "metadata": {},
   "outputs": [],
   "source": [
    "def predict(text, model, vocab):\n",
    "    \"\"\" \n",
    "    Make a prediction on a single sentence.\n",
    "\n",
    "    Parameters\n",
    "    ----------\n",
    "        text : The string to make a prediction on.\n",
    "        model : The model to use for making the prediction.\n",
    "        vocab : Dictionary for word to word ids. The key is the word and the value is the word id.\n",
    "\n",
    "    Returns\n",
    "    -------\n",
    "        pred : Prediction vector\n",
    "    \"\"\"    \n",
    "    \n",
    "    # TODO Implement\n",
    "    \n",
    "    tokens = preprocess(text)\n",
    "    \n",
    "    # Filter non-vocab words\n",
    "    tokens = [word for word in tokens if word in vocab]\n",
    "    \n",
    "    # Convert words to ids\n",
    "    tokens = [vocab[word] for word in tokens]\n",
    "        \n",
    "    # Adding a batch dimension\n",
    "    #From reviewer suggestion\n",
    "    text_array = torch.tensor(tokens).view(-1,1)\n",
    "    \n",
    "    # Get the NN output\n",
    "    hidden = model.init_hidden(1)\n",
    "    log_probs, _ = model.forward(text_array, hidden)\n",
    "    \n",
    "    # Take the exponent of the NN output to get a range of 0 to 1 for each label.\n",
    "    preds = torch.exp(log_probs)\n",
    "    \n",
    "    return preds"
   ]
  },
  {
   "cell_type": "code",
   "execution_count": 51,
   "metadata": {},
   "outputs": [
    {
     "data": {
      "text/plain": [
       "tensor([[ 0.0007,  0.0123,  0.0077,  0.7342,  0.2451]])"
      ]
     },
     "execution_count": 51,
     "metadata": {},
     "output_type": "execute_result"
    }
   ],
   "source": [
    "text = \"Google is working on self driving cars, I'm bullish on $goog\"\n",
    "model.eval()\n",
    "model.to(\"cpu\")\n",
    "predict(text, model, vocab)"
   ]
  },
  {
   "cell_type": "markdown",
   "metadata": {},
   "source": [
    "### Questions: What is the prediction of the model? What is the uncertainty of the prediction?\n",
    "The model prediction is a probability distribution of the possible classes of the sentiment of the tweet.  The class with the highest probability score is the most likely sentiment level based on the model.  A probability distribution is much more helpful than a point estimate in a classification like this because there may not be much difference between adjacent classes but as a tool for measuring sentiment the uncertainty of the prediction can be seen by the observing the probabilities of the classes that do not have the highest level.  "
   ]
  },
  {
   "cell_type": "markdown",
   "metadata": {},
   "source": [
    "Now we have a trained model and we can make predictions. We can use this model to track the sentiments of various stocks by predicting the sentiments of twits as they are coming in. Now we have a stream of twits. For each of those twits, pull out the stocks mentioned in them and keep track of the sentiments. Remember that in the twits, ticker symbols are encoded with a dollar sign as the first character, all caps, and 2-4 letters, like $AAPL. Ideally, you'd want to track the sentiments of the stocks in your universe and use this as a signal in your larger model(s).\n",
    "\n",
    "## Testing\n",
    "### Load the Data "
   ]
  },
  {
   "cell_type": "code",
   "execution_count": 52,
   "metadata": {},
   "outputs": [],
   "source": [
    "with open(os.path.join('..', '..', 'data', 'project_6_stocktwits', 'test_twits.json'), 'r') as f:\n",
    "    test_data = json.load(f)"
   ]
  },
  {
   "cell_type": "markdown",
   "metadata": {},
   "source": [
    "### Twit Stream"
   ]
  },
  {
   "cell_type": "code",
   "execution_count": 53,
   "metadata": {},
   "outputs": [
    {
     "data": {
      "text/plain": [
       "{'message_body': '$JWN has moved -1.69% on 10-31. Check out the movement and peers at  https://dividendbot.com?s=JWN',\n",
       " 'timestamp': '2018-11-01T00:00:05Z'}"
      ]
     },
     "execution_count": 53,
     "metadata": {},
     "output_type": "execute_result"
    }
   ],
   "source": [
    "def twit_stream():\n",
    "    for twit in test_data['data']:\n",
    "        yield twit\n",
    "\n",
    "next(twit_stream())"
   ]
  },
  {
   "cell_type": "markdown",
   "metadata": {},
   "source": [
    "Using the `prediction` function, let's apply it to a stream of twits."
   ]
  },
  {
   "cell_type": "code",
   "execution_count": 54,
   "metadata": {},
   "outputs": [],
   "source": [
    "def score_twits(stream, model, vocab, universe):\n",
    "    \"\"\" \n",
    "    Given a stream of twits and a universe of tickers, return sentiment scores for tickers in the universe.\n",
    "    \"\"\"\n",
    "    for twit in stream:\n",
    "\n",
    "        # Get the message text\n",
    "        text = twit['message_body']\n",
    "        symbols = re.findall('\\$[A-Z]{2,4}', text)\n",
    "        score = predict(text, model, vocab)\n",
    "\n",
    "        for symbol in symbols:\n",
    "            if symbol in universe:\n",
    "                yield {'symbol': symbol, 'score': score, 'timestamp': twit['timestamp']}"
   ]
  },
  {
   "cell_type": "code",
   "execution_count": 55,
   "metadata": {},
   "outputs": [
    {
     "data": {
      "text/plain": [
       "{'symbol': '$AAPL',\n",
       " 'score': tensor([[ 0.0785,  0.1750,  0.1640,  0.3872,  0.1953]]),\n",
       " 'timestamp': '2018-11-01T00:00:18Z'}"
      ]
     },
     "execution_count": 55,
     "metadata": {},
     "output_type": "execute_result"
    }
   ],
   "source": [
    "universe = {'$BBRY', '$AAPL', '$AMZN', '$BABA', '$YHOO', '$LQMT', '$FB', '$GOOG', '$BBBY', '$JNUG', '$SBUX', '$MU'}\n",
    "score_stream = score_twits(twit_stream(), model, vocab, universe)\n",
    "\n",
    "next(score_stream)"
   ]
  },
  {
   "cell_type": "markdown",
   "metadata": {},
   "source": [
    "That's it. You have successfully built a model for sentiment analysis! "
   ]
  },
  {
   "cell_type": "markdown",
   "metadata": {},
   "source": [
    "## Submission\n",
    "Now that you're done with the project, it's time to submit it. Click the submit button in the bottom right. One of our reviewers will give you feedback on your project with a pass or not passed grade. You can continue to the next section while you wait for feedback."
   ]
  },
  {
   "cell_type": "code",
   "execution_count": null,
   "metadata": {},
   "outputs": [],
   "source": []
  }
 ],
 "metadata": {
  "kernelspec": {
   "display_name": "Python 3",
   "language": "python",
   "name": "python3"
  },
  "language_info": {
   "codemirror_mode": {
    "name": "ipython",
    "version": 3
   },
   "file_extension": ".py",
   "mimetype": "text/x-python",
   "name": "python",
   "nbconvert_exporter": "python",
   "pygments_lexer": "ipython3",
   "version": "3.6.3"
  }
 },
 "nbformat": 4,
 "nbformat_minor": 2
}

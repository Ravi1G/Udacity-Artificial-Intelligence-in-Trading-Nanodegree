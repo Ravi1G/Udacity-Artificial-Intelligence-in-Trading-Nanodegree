{
 "cells": [
  {
   "cell_type": "markdown",
   "metadata": {},
   "source": [
    "# Project 6: Analyzing Stock Sentiment from Twits\n",
    "## Instructions\n",
    "Each problem consists of a function to implement and instructions on how to implement the function.  The parts of the function that need to be implemented are marked with a `# TODO` comment.\n",
    "\n",
    "## Packages\n",
    "When you implement the functions, you'll only need to you use the packages you've used in the classroom, like [Pandas](https://pandas.pydata.org/) and [Numpy](http://www.numpy.org/). These packages will be imported for you. We recommend you don't add any import statements, otherwise the grader might not be able to run your code.\n",
    "\n",
    "### Load Packages"
   ]
  },
  {
   "cell_type": "code",
   "execution_count": 1,
   "metadata": {},
   "outputs": [],
   "source": [
    "import json\n",
    "import nltk\n",
    "import os\n",
    "import random\n",
    "import re\n",
    "import torch\n",
    "\n",
    "from torch import nn, optim\n",
    "import torch.nn.functional as F"
   ]
  },
  {
   "cell_type": "markdown",
   "metadata": {},
   "source": [
    "## Introduction\n",
    "When deciding the value of a company, it's important to follow the news. For example, a product recall or natural disaster in a company's product chain. You want to be able to turn this information into a signal. Currently, the best tool for the job is a Neural Network. \n",
    "\n",
    "For this project, you'll use posts from the social media site [StockTwits](https://en.wikipedia.org/wiki/StockTwits). The community on StockTwits is full of investors, traders, and entrepreneurs. Each message posted is called a Twit. This is similar to Twitter's version of a post, called a Tweet. You'll build a model around these twits that generate a sentiment score.\n",
    "\n",
    "We've collected a bunch of twits, then hand labeled the sentiment of each. To capture the degree of sentiment, we'll use a five-point scale: very negative, negative, neutral, positive, very positive. Each twit is labeled -2 to 2 in steps of 1, from very negative to very positive respectively. You'll build a sentiment analysis model that will learn to assign sentiment to twits on its own, using this labeled data.\n",
    "\n",
    "The first thing we should to do, is load the data.\n",
    "\n",
    "## Import Twits \n",
    "### Load Twits Data \n",
    "This JSON file contains a list of objects for each twit in the `'data'` field:\n",
    "\n",
    "```\n",
    "{'data':\n",
    "  {'message_body': 'Neutral twit body text here',\n",
    "   'sentiment': 0},\n",
    "  {'message_body': 'Happy twit body text here',\n",
    "   'sentiment': 1},\n",
    "   ...\n",
    "}\n",
    "```\n",
    "\n",
    "The fields represent the following:\n",
    "\n",
    "* `'message_body'`: The text of the twit.\n",
    "* `'sentiment'`: Sentiment score for the twit, ranges from -2 to 2 in steps of 1, with 0 being neutral.\n",
    "\n",
    "\n",
    "To see what the data look like by printing the first 10 twits from the list. "
   ]
  },
  {
   "cell_type": "code",
   "execution_count": 2,
   "metadata": {},
   "outputs": [
    {
     "name": "stdout",
     "output_type": "stream",
     "text": [
      "[{'message_body': '$FITB great buy at 26.00...ill wait', 'sentiment': 2, 'timestamp': '2018-07-01T00:00:09Z'}, {'message_body': '@StockTwits $MSFT', 'sentiment': 1, 'timestamp': '2018-07-01T00:00:42Z'}, {'message_body': '#STAAnalystAlert for $TDG : Jefferies Maintains with a rating of Hold setting target price at USD 350.00. Our own verdict is Buy  http://www.stocktargetadvisor.com/toprating', 'sentiment': 2, 'timestamp': '2018-07-01T00:01:24Z'}, {'message_body': '$AMD I heard there’s a guy who knows someone who thinks somebody knows something - on StockTwits.', 'sentiment': 1, 'timestamp': '2018-07-01T00:01:47Z'}, {'message_body': '$AMD reveal yourself!', 'sentiment': 0, 'timestamp': '2018-07-01T00:02:13Z'}, {'message_body': '$AAPL Why the drop? I warren Buffet taking out his position?', 'sentiment': 1, 'timestamp': '2018-07-01T00:03:10Z'}, {'message_body': '$BA bears have 1 reason on 06-29 to pay more attention https://dividendbot.com?s=BA', 'sentiment': -2, 'timestamp': '2018-07-01T00:04:09Z'}, {'message_body': '$BAC ok good we&#39;re not dropping in price over the weekend, lol', 'sentiment': 1, 'timestamp': '2018-07-01T00:04:17Z'}, {'message_body': '$AMAT - Daily Chart, we need to get back to above 50.', 'sentiment': 2, 'timestamp': '2018-07-01T00:08:01Z'}, {'message_body': '$GME 3% drop per week after spike... if no news in 3 months, back to 12s... if BO, then bingo... what is the odds?', 'sentiment': -2, 'timestamp': '2018-07-01T00:09:03Z'}]\n"
     ]
    }
   ],
   "source": [
    "with open(os.path.join('..', '..', 'data', 'project_6_stocktwits', 'twits.json'), 'r') as f:\n",
    "    twits = json.load(f)\n",
    "\n",
    "print(twits['data'][:10])"
   ]
  },
  {
   "cell_type": "markdown",
   "metadata": {},
   "source": [
    "### Length of Data\n",
    "Now let's look at the number of twits in dataset. Print the number of twits below."
   ]
  },
  {
   "cell_type": "code",
   "execution_count": 4,
   "metadata": {},
   "outputs": [
    {
     "name": "stdout",
     "output_type": "stream",
     "text": [
      "1548010\n"
     ]
    }
   ],
   "source": [
    "\"\"\"print out the number of twits\"\"\"\n",
    "\n",
    "# TODO Implement \n",
    "print(len(twits['data']))\n",
    "\n"
   ]
  },
  {
   "cell_type": "markdown",
   "metadata": {},
   "source": [
    "### Split Message Body and Sentiment Score"
   ]
  },
  {
   "cell_type": "code",
   "execution_count": 5,
   "metadata": {},
   "outputs": [],
   "source": [
    "messages = [twit['message_body'] for twit in twits['data']]\n",
    "# Since the sentiment scores are discrete, we'll scale the sentiments to 0 to 4 for use in our network\n",
    "sentiments = [twit['sentiment'] + 2 for twit in twits['data']]"
   ]
  },
  {
   "cell_type": "markdown",
   "metadata": {},
   "source": [
    "## Preprocessing the Data\n",
    "With our data in hand we need to preprocess our text. These twits are collected by filtering on ticker symbols where these are denoted with a leader $ symbol in the twit itself. For example,\n",
    "\n",
    "`{'message_body': 'RT @google Our annual look at the year in Google blogging (and beyond) http://t.co/sptHOAh8 $GOOG',\n",
    " 'sentiment': 0}`\n",
    "\n",
    "The ticker symbols don't provide information on the sentiment, and they are in every twit, so we should remove them. This twit also has the `@google` username, again not providing sentiment information, so we should also remove it. We also see a URL `http://t.co/sptHOAh8`. Let's remove these too.\n",
    "\n",
    "The easiest way to remove specific words or phrases is with regex using the `re` module. You can sub out specific patterns with a space:\n",
    "\n",
    "```python\n",
    "re.sub(pattern, ' ', text)\n",
    "```\n",
    "This will substitute a space with anywhere the pattern matches in the text. Later when we tokenize the text, we'll split appropriately on those spaces."
   ]
  },
  {
   "cell_type": "markdown",
   "metadata": {},
   "source": [
    "### Pre-Processing"
   ]
  },
  {
   "cell_type": "code",
   "execution_count": 6,
   "metadata": {},
   "outputs": [
    {
     "name": "stdout",
     "output_type": "stream",
     "text": [
      "[nltk_data] Downloading package wordnet to /root/nltk_data...\n",
      "[nltk_data]   Unzipping corpora/wordnet.zip.\n"
     ]
    }
   ],
   "source": [
    "nltk.download('wordnet')\n",
    "\n",
    "\n",
    "def preprocess(message):\n",
    "    \"\"\"\n",
    "    This function takes a string as input, then performs these operations: \n",
    "        - lowercase\n",
    "        - remove URLs\n",
    "        - remove ticker symbols \n",
    "        - removes punctuation\n",
    "        - tokenize by splitting the string on whitespace \n",
    "        - removes any single character tokens\n",
    "    \n",
    "    Parameters\n",
    "    ----------\n",
    "        message : The text message to be preprocessed.\n",
    "        \n",
    "    Returns\n",
    "    -------\n",
    "        tokens: The preprocessed text into tokens.\n",
    "    \"\"\" \n",
    "    #TODO: Implement \n",
    "    \n",
    "    # Lowercase the twit message\n",
    "    text = message.lower()\n",
    "    \n",
    "    # Replace URLs with a space in the message\n",
    "    #re.sub(pattern, ' ', text)\n",
    "    text = re.sub(r'http\\S+', ' ', text)\n",
    "    \n",
    "    # Replace ticker symbols with a space. The ticker symbols are \n",
    "    #any stock symbol that starts with $.\n",
    "    #text = re.sub(r'\\s::\\w+', ' ', text)\n",
    "    text = re.sub(r\"[$]\\w+\", \" \", text)\n",
    "    #xt = re.sub(r\"[^a-zA-Z0-9]\", \" \", text) \n",
    "    #r'(\\s)#\\w+'\n",
    "    #query=re.sub(r\"\\bsearch\\w+\", \"\", query)\n",
    "    \n",
    "    # Replace StockTwits usernames with a space. The usernames are any word that starts with @.\n",
    "    #text = pass\n",
    "    text = re.sub(r\"[@]\\w+\", \" \", text)\n",
    "    # Replace everything not a letter with a space\n",
    "    #text = pass\n",
    "    text = re.sub('[^a-zA-Z]', \" \", text)\n",
    "    \n",
    "    # Tokenize by splitting the string on whitespace into a list of words\n",
    "    #tokens = pass\n",
    "    tokens = re.sub(r\"\\b[a-zA-Z]\\b\", \"\", text)\n",
    "    tokens = tokens.split()\n",
    "    #print(tokens)\n",
    "\n",
    "    # Lemmatize words using the WordNetLemmatizer. You can ignore any word that is not longer than one character.\n",
    "    \n",
    "    wnl = nltk.stem.WordNetLemmatizer()\n",
    "    tokens = [wnl.lemmatize(w) for w in tokens]\n",
    "    \n",
    "    return tokens\n"
   ]
  },
  {
   "cell_type": "raw",
   "metadata": {},
   "source": [
    "# Preprocess All the Twits \n",
    "Now we can preprocess each of the twits in our dataset. Apply the function `preprocess` to all the twit messages."
   ]
  },
  {
   "cell_type": "code",
   "execution_count": 7,
   "metadata": {},
   "outputs": [],
   "source": [
    "# TODO Implement\n",
    "\n",
    "#As suggested by reviewer:\n",
    "tokenized = [preprocess(tweet) for tweet in messages]\n"
   ]
  },
  {
   "cell_type": "markdown",
   "metadata": {},
   "source": [
    "### Bag of Words\n",
    "Now with all of our messages tokenized, we want to create a vocabulary and count up how often each word appears in our entire corpus. Use the [`Counter`](https://docs.python.org/3.1/library/collections.html#collections.Counter) function to count up all the tokens."
   ]
  },
  {
   "cell_type": "code",
   "execution_count": 8,
   "metadata": {},
   "outputs": [],
   "source": [
    "from collections import Counter\n",
    "\n",
    "\n",
    "\"\"\"\n",
    "Create a vocabulary by using Bag of words\n",
    "\"\"\"\n",
    "\n",
    "# TODO: Implement \n",
    "tokens = []\n",
    "for token in tokenized:\n",
    "    for word in token:\n",
    "        tokens.append(word)\n",
    "\n",
    "#print(tokens)\n",
    "bow = Counter(tokens)\n",
    "#print(bow)"
   ]
  },
  {
   "cell_type": "markdown",
   "metadata": {},
   "source": [
    "### Frequency of Words Appearing in Message\n",
    "With our vocabulary, now we'll remove some of the most common words such as 'the', 'and', 'it', etc. These words don't contribute to identifying sentiment and are really common, resulting in a lot of noise in our input. If we can filter these out, then our network should have an easier time learning.\n",
    "\n",
    "We also want to remove really rare words that show up in a only a few twits. Here you'll want to divide the count of each word by the number of messages. Then remove words that only appear in some small fraction of the messages."
   ]
  },
  {
   "cell_type": "code",
   "execution_count": 16,
   "metadata": {},
   "outputs": [
    {
     "name": "stdout",
     "output_type": "stream",
     "text": [
      "['will', 'at', 'it', 'this', 'in', 'and', 'of', 'on', 'for', 'is', 'to', 'the']\n"
     ]
    },
    {
     "data": {
      "text/plain": [
       "98402"
      ]
     },
     "execution_count": 16,
     "metadata": {},
     "output_type": "execute_result"
    }
   ],
   "source": [
    "\"\"\"\n",
    "Set the following variables:\n",
    "    freqs\n",
    "    low_cutoff\n",
    "    high_cutoff\n",
    "    K_most_common\n",
    "\"\"\"\n",
    "# TODO Implement \n",
    "#\n",
    "import operator\n",
    "\n",
    "# Dictionart that contains the Frequency of words appearing in messages.\n",
    "# The key is the token and the value is the frequency of that word in the corpus.\n",
    "total_count = len(bow)\n",
    "#print(total_count)\n",
    "freqs = {word: count/total_count for word, count in bow.items()}\n",
    "#print(len(freqs))\n",
    "# Float that is the frequency cutoff. Drop words with a frequency that is lower or equal to this number.\n",
    "low_cutoff = 1e-5\n",
    "\n",
    "# Integer that is the cut off for most common words. Drop words that are the `high_cutoff` most common words.\n",
    "high_cutoff = 12\n",
    "\n",
    "# The k most common words in the corpus. Use `high_cutoff` as the k.\n",
    "#GITHUB solution:   https://github.com/chricke/udacity/blob/master/AITND/Sentiment_Analysis_with_Neural_Networks/project_6_starter.ipynb\n",
    "K_most_common = sorted(freqs.items(), key=operator.itemgetter(1))[-high_cutoff:]\n",
    "K_most_common = [x[0] for x in K_most_common]\n",
    "\n",
    "filtered_words = [word for word in freqs if (freqs[word] > low_cutoff and word not in K_most_common)]\n",
    "print(K_most_common)\n",
    "len(filtered_words)"
   ]
  },
  {
   "cell_type": "markdown",
   "metadata": {},
   "source": [
    "### Updating Vocabulary by Removing Filtered Words\n",
    "Let's creat three variables that will help with our vocabulary."
   ]
  },
  {
   "cell_type": "code",
   "execution_count": 17,
   "metadata": {},
   "outputs": [
    {
     "data": {
      "application/vnd.jupyter.widget-view+json": {
       "model_id": "1546f94306d3481783f455601dd0d7aa",
       "version_major": 2,
       "version_minor": 0
      },
      "text/html": [
       "<p>Failed to display Jupyter Widget of type <code>HBox</code>.</p>\n",
       "<p>\n",
       "  If you're reading this message in the Jupyter Notebook or JupyterLab Notebook, it may mean\n",
       "  that the widgets JavaScript is still loading. If this message persists, it\n",
       "  likely means that the widgets JavaScript library is either not installed or\n",
       "  not enabled. See the <a href=\"https://ipywidgets.readthedocs.io/en/stable/user_install.html\">Jupyter\n",
       "  Widgets Documentation</a> for setup instructions.\n",
       "</p>\n",
       "<p>\n",
       "  If you're reading this message in another frontend (for example, a static\n",
       "  rendering on GitHub or <a href=\"https://nbviewer.jupyter.org/\">NBViewer</a>),\n",
       "  it may mean that your frontend doesn't currently support widgets.\n",
       "</p>\n"
      ],
      "text/plain": [
       "HBox(children=(IntProgress(value=0, max=1548010), HTML(value='')))"
      ]
     },
     "metadata": {},
     "output_type": "display_data"
    },
    {
     "name": "stdout",
     "output_type": "stream",
     "text": [
      "\n"
     ]
    }
   ],
   "source": [
    "\"\"\"\n",
    "Set the following variables:\n",
    "    vocab\n",
    "    id2vocab\n",
    "    filtered\n",
    "\"\"\"\n",
    "\n",
    "#TODO Implement\n",
    "from tqdm import tqdm_notebook as tqdm\n",
    "# A dictionary for the `filtered_words`. The key is the word and value is an id that represents the word. \n",
    "#From the lesson on movie sentiment\n",
    "counts = Counter(filtered_words)\n",
    "vocab_temp = sorted(counts, key=counts.get, reverse=True)\n",
    "vocab = {word: ii for ii, word in enumerate(vocab_temp, 1)}\n",
    "\n",
    "# Reverse of the `vocab` dictionary. The key is word id and value is the word.\n",
    "id2vocab = dict(map(reversed, vocab.items()))\n",
    "\n",
    "# tokenized with the words not in `filtered_words` removed.\n",
    "filtered = [[word for word in message if word in vocab] for message in tqdm(tokenized)]\n",
    "\n"
   ]
  },
  {
   "cell_type": "markdown",
   "metadata": {},
   "source": [
    "### Balancing the classes\n",
    "Let's do a few last pre-processing steps. If we look at how our twits are labeled, we'll find that 50% of them are neutral. This means that our network will be 50% accurate just by guessing 0 every single time. To help our network learn appropriately, we'll want to balance our classes.\n",
    "That is, make sure each of our different sentiment scores show up roughly as frequently in the data.\n",
    "\n",
    "What we can do here is go through each of our examples and randomly drop twits with neutral sentiment. What should be the probability we drop these twits if we want to get around 20% neutral twits starting at 50% neutral? We should also take this opportunity to remove messages with length 0."
   ]
  },
  {
   "cell_type": "code",
   "execution_count": 18,
   "metadata": {},
   "outputs": [],
   "source": [
    "balanced = {'messages': [], 'sentiments':[]}\n",
    "\n",
    "n_neutral = sum(1 for each in sentiments if each == 2)\n",
    "N_examples = len(sentiments)\n",
    "keep_prob = (N_examples - n_neutral)/4/n_neutral\n",
    "\n",
    "for idx, sentiment in enumerate(sentiments):\n",
    "    message = filtered[idx]\n",
    "    if len(message) == 0:\n",
    "        # skip this message because it has length zero\n",
    "        continue\n",
    "    elif sentiment != 2 or random.random() < keep_prob:\n",
    "        balanced['messages'].append(message)\n",
    "        balanced['sentiments'].append(sentiment) "
   ]
  },
  {
   "cell_type": "markdown",
   "metadata": {},
   "source": [
    "If you did it correctly, you should see the following result "
   ]
  },
  {
   "cell_type": "code",
   "execution_count": 19,
   "metadata": {},
   "outputs": [
    {
     "data": {
      "text/plain": [
       "0.19509943078599976"
      ]
     },
     "execution_count": 19,
     "metadata": {},
     "output_type": "execute_result"
    }
   ],
   "source": [
    "n_neutral = sum(1 for each in balanced['sentiments'] if each == 2)\n",
    "N_examples = len(balanced['sentiments'])\n",
    "n_neutral/N_examples"
   ]
  },
  {
   "cell_type": "markdown",
   "metadata": {},
   "source": [
    "Finally let's convert our tokens into integer ids which we can pass to the network."
   ]
  },
  {
   "cell_type": "code",
   "execution_count": 20,
   "metadata": {},
   "outputs": [],
   "source": [
    "token_ids = [[vocab[word] for word in message] for message in balanced['messages']]\n",
    "sentiments = balanced['sentiments']"
   ]
  },
  {
   "cell_type": "code",
   "execution_count": 21,
   "metadata": {},
   "outputs": [
    {
     "name": "stdout",
     "output_type": "stream",
     "text": [
      "[13, 77, 78, 79, 80, 81, 82, 83, 84, 85]\n"
     ]
    },
    {
     "data": {
      "text/plain": [
       "3"
      ]
     },
     "execution_count": 21,
     "metadata": {},
     "output_type": "execute_result"
    }
   ],
   "source": [
    "print(token_ids[10])\n",
    "sentiments[5]"
   ]
  },
  {
   "cell_type": "markdown",
   "metadata": {},
   "source": [
    "## Neural Network\n",
    "Now we have our vocabulary which means we can transform our tokens into ids, which are then passed to our network. So, let's define the network now!\n",
    "\n",
    "Here is a nice diagram showing the network we'd like to build: \n",
    "\n",
    "#### Embed -> RNN -> Dense -> Softmax\n",
    "### Implement the text classifier\n",
    "Before we build text classifier, if you remember from the other network that you built in  \"Sentiment Analysis with an RNN\"  exercise  - which there, the network called \" SentimentRNN\", here we named it \"TextClassifer\" - consists of three main parts: 1) init function `__init__` 2) forward pass `forward`  3) hidden state `init_hidden`. \n",
    "\n",
    "This network is pretty similar to the network you built expect in the  `forward` pass, we use softmax instead of sigmoid. The reason we are not using sigmoid is that the output of NN is not a binary. In our network, sentiment scores have 5 possible outcomes. We are looking for an outcome with the highest probability thus softmax is a better choice."
   ]
  },
  {
   "cell_type": "code",
   "execution_count": 22,
   "metadata": {},
   "outputs": [
    {
     "name": "stdout",
     "output_type": "stream",
     "text": [
      "Training on GPU.\n"
     ]
    }
   ],
   "source": [
    "# First checking if GPU is available\n",
    "train_on_gpu=torch.cuda.is_available()\n",
    "\n",
    "if(train_on_gpu):\n",
    "    print('Training on GPU.')\n",
    "else:\n",
    "    print('No GPU available, training on CPU.')"
   ]
  },
  {
   "cell_type": "code",
   "execution_count": 23,
   "metadata": {},
   "outputs": [],
   "source": [
    "class TextClassifier(nn.Module):\n",
    "    def __init__(self, vocab_size, embed_size, lstm_size, output_size, lstm_layers=1, dropout=0.1):\n",
    "        \"\"\"\n",
    "        Initialize the model by setting up the layers.\n",
    "        \n",
    "        Parameters\n",
    "        ----------\n",
    "            vocab_size : The vocabulary size.\n",
    "            embed_size : The embedding layer size.\n",
    "            lstm_size : The LSTM layer size.\n",
    "            output_size : The output size.\n",
    "            lstm_layers : The number of LSTM layers.\n",
    "            dropout : The dropout probability.\n",
    "        \"\"\"\n",
    "        \n",
    "        super().__init__()\n",
    "        self.vocab_size = vocab_size\n",
    "        self.embed_size = embed_size\n",
    "        self.lstm_size = lstm_size\n",
    "        self.output_size = output_size\n",
    "        self.lstm_layers = lstm_layers\n",
    "        self.dropout = dropout\n",
    "        \n",
    "        # TODO Implement\n",
    "       \n",
    "        #With help from forum plus movie sentiment workbook\n",
    "        # Setup embedding layer\n",
    "        self.embedding = nn.Embedding(self.vocab_size, self.embed_size)\n",
    "        \n",
    "        # Setup additional layers\n",
    "        self.lstm = nn.LSTM(self.embed_size, self.lstm_size, self.lstm_layers, \n",
    "                            dropout=self.dropout, batch_first = False)\n",
    "        \n",
    "        #Set Dropout\n",
    "        self.dropout = nn.Dropout(self.dropout)\n",
    "        \n",
    "        #linear and softmax layers\n",
    "        self.fc = nn.Linear(self.lstm_size, self.output_size)\n",
    "        self.softmax = nn.LogSoftmax(dim = 1)\n",
    "        \n",
    "    def init_hidden(self, batch_size):\n",
    "        \"\"\" \n",
    "        Initializes hidden state\n",
    "        \n",
    "        Parameters\n",
    "        ----------\n",
    "            batch_size : The size of batches.\n",
    "        \n",
    "        Returns\n",
    "        -------\n",
    "            hidden_state\n",
    "            \n",
    "        \"\"\"\n",
    "        \n",
    "        # TODO Implement \n",
    "        \n",
    "        # Create two new tensors with sizes n_layers x batch_size x hidden_dim,\n",
    "        # initialized to zero, for hidden state and cell state of LSTM\n",
    "        #Modified from movie sentiment notebook\n",
    "        weight = next(self.parameters()).data\n",
    "        \n",
    "#         if (train_on_gpu):\n",
    "#             hidden_state = (weight.new(self.lstm_layers, batch_size, self.output_size).zero_().cuda(),\n",
    "#                   weight.new(self.lstm_layers, batch_size, self.output_size).zero_().cuda())\n",
    "#         else:\n",
    "#             hidden_state = (weight.new(self.lstm_layers, batch_size, self.output_size).zero_(),\n",
    "#                       weight.new(self.lstm_layers, batch_size, self.output_size).zero_())\n",
    "        hidden = (weight.new(self.lstm_layers, batch_size, self.lstm_size).zero_(),\n",
    "                  weight.new(self.lstm_layers, batch_size, self.lstm_size).zero_())\n",
    "        \n",
    "        return hidden\n",
    "\n",
    "    #Modified from movie sentiment notebook\n",
    "    def forward(self, nn_input, hidden_state):\n",
    "        \"\"\"\n",
    "        Perform a forward pass of our model on nn_input.\n",
    "        \n",
    "        Parameters\n",
    "        ----------\n",
    "            nn_input : The batch of input to the NN.\n",
    "            hidden_state : The LSTM hidden state.\n",
    "\n",
    "        Returns\n",
    "        -------\n",
    "            logps: log softmax output\n",
    "            hidden_state: The new hidden state.\n",
    "\n",
    "        \"\"\"\n",
    "        \n",
    "        # TODO Implement \n",
    "        #batch_size = nn_input.size(0)\n",
    "        batch_size = nn_input.long()\n",
    "        # embeddings and lstm_out\n",
    "        embeds = self.embedding(nn_input)\n",
    "        lstm_out, hidden = self.lstm(embeds, hidden_state)\n",
    "    \n",
    "        # stack up lstm outputs\n",
    "        #lstm_out = lstm_out.contiguous().view(-1, self.hidden_dim)\n",
    "        #from forums??????\n",
    "        #Because of the output size change you shouldn't be reshaping the lstm_outs with .contiguous().view... instead you want to use lstm_out[-1, :, :] to obtain the last output of the sequence\n",
    "        lstm_out = lstm_out[-1,:,:] \n",
    "        # dropout and fully-connected layer\n",
    "        out = self.dropout(lstm_out)\n",
    "        out = self.fc(out)\n",
    "        \n",
    "        #Softmax function\n",
    "        log_probs = self.softmax(out)\n",
    "        # sigmoid function\n",
    "        #sig_out = self.sig(out)\n",
    "        #from github???\n",
    "        batch_size = nn_input.size(1)\n",
    "        \n",
    "        # reshape to be batch_size first\n",
    "        #sig_out = sig_out.view(batch_size, -1)\n",
    "        #sig_out = sig_out[:, -1] # get last batch of labels\n",
    "        \n",
    "        # return last sigmoid output and hidden state\n",
    "        return log_probs, hidden_state\n",
    "        \n",
    "        \n",
    "        #return None, None"
   ]
  },
  {
   "cell_type": "markdown",
   "metadata": {},
   "source": [
    "### View Model"
   ]
  },
  {
   "cell_type": "code",
   "execution_count": 24,
   "metadata": {},
   "outputs": [
    {
     "name": "stdout",
     "output_type": "stream",
     "text": [
      "tensor([[-1.9341, -1.4630, -1.2760, -1.5301, -2.0538],\n",
      "        [-2.0354, -1.3370, -1.3179, -1.5094, -2.1372],\n",
      "        [-2.0118, -1.3637, -1.3311, -1.4919, -2.1085],\n",
      "        [-2.0104, -1.3576, -1.3050, -1.5238, -2.1226]])\n",
      "TextClassifier(\n",
      "  (embedding): Embedding(98402, 10)\n",
      "  (lstm): LSTM(10, 6, num_layers=2, dropout=0.1)\n",
      "  (dropout): Dropout(p=0.1)\n",
      "  (fc): Linear(in_features=6, out_features=5, bias=True)\n",
      "  (softmax): LogSoftmax()\n",
      ")\n"
     ]
    }
   ],
   "source": [
    "model = TextClassifier(len(vocab), 10, 6, 5, dropout=0.1, lstm_layers=2)\n",
    "model.embedding.weight.data.uniform_(-1, 1)\n",
    "input = torch.randint(0, 1000, (5, 4), dtype=torch.int64)\n",
    "hidden = model.init_hidden(4)\n",
    "\n",
    "logps, _ = model.forward(input, hidden)\n",
    "print(logps)\n",
    "print(model)"
   ]
  },
  {
   "cell_type": "markdown",
   "metadata": {},
   "source": [
    "## Training\n",
    "### DataLoaders and Batching\n",
    "Now we should build a generator that we can use to loop through our data. It'll be more efficient if we can pass our sequences in as batches. Our input tensors should look like `(sequence_length, batch_size)`. So if our sequences are 40 tokens long and we pass in 25 sequences, then we'd have an input size of `(40, 25)`.\n",
    "\n",
    "If we set our sequence length to 40, what do we do with messages that are more or less than 40 tokens? For messages with fewer than 40 tokens, we will pad the empty spots with zeros. We should be sure to **left** pad so that the RNN starts from nothing before going through the data. If the message has 20 tokens, then the first 20 spots of our 40 long sequence will be 0. If a message has more than 40 tokens, we'll just keep the first 40 tokens."
   ]
  },
  {
   "cell_type": "code",
   "execution_count": 25,
   "metadata": {},
   "outputs": [],
   "source": [
    "def dataloader(messages, labels, sequence_length=30, batch_size=32, shuffle=False):\n",
    "    \"\"\" \n",
    "    Build a dataloader.\n",
    "    \"\"\"\n",
    "    if shuffle:\n",
    "        indices = list(range(len(messages)))\n",
    "        random.shuffle(indices)\n",
    "        messages = [messages[idx] for idx in indices]\n",
    "        labels = [labels[idx] for idx in indices]\n",
    "\n",
    "    total_sequences = len(messages)\n",
    "\n",
    "    for ii in range(0, total_sequences, batch_size):\n",
    "        batch_messages = messages[ii: ii+batch_size]\n",
    "        \n",
    "        # First initialize a tensor of all zeros\n",
    "        batch = torch.zeros((sequence_length, len(batch_messages)), dtype=torch.int64)\n",
    "        for batch_num, tokens in enumerate(batch_messages):\n",
    "            token_tensor = torch.tensor(tokens)\n",
    "            # Left pad!\n",
    "            start_idx = max(sequence_length - len(token_tensor), 0)\n",
    "            batch[start_idx:, batch_num] = token_tensor[:sequence_length]\n",
    "        \n",
    "        label_tensor = torch.tensor(labels[ii: ii+len(batch_messages)])\n",
    "        \n",
    "        yield batch, label_tensor"
   ]
  },
  {
   "cell_type": "markdown",
   "metadata": {},
   "source": [
    "### Training and  Validation\n",
    "With our data in nice shape, we'll split it into training and validation sets."
   ]
  },
  {
   "cell_type": "code",
   "execution_count": 56,
   "metadata": {},
   "outputs": [
    {
     "name": "stdout",
     "output_type": "stream",
     "text": [
      "\t\t\tFeature Sizes:\n",
      "Train set: \t\t825700 \n",
      "Validation set: \t206425\n"
     ]
    }
   ],
   "source": [
    "\"\"\"\n",
    "Split data into training and validation datasets. Use an appropriate split size.\n",
    "The features are the `token_ids` and the labels are the `sentiments`.\n",
    "\"\"\"   \n",
    "\n",
    "# TODO Implement\n",
    "\n",
    "split_frac = 0.8\n",
    "\n",
    "token_temp_ids = token_ids[:1000]\n",
    "sentiments_temp_ids = sentiments[:1000]\n",
    "\n",
    "## split data into training, validation, and test data (features and labels, x and y)\n",
    "\n",
    "split_idx = int(len(token_ids)* split_frac)\n",
    "train_features, valid_features = token_ids[:split_idx], token_ids[split_idx:]\n",
    "train_labels, valid_labels = sentiments[:split_idx], sentiments[split_idx:]\n",
    "\n",
    "# split_idx = int(len(token_temp_ids)* split_frac)\n",
    "# train_features, valid_features = token_temp_ids[:split_idx], token_temp_ids[split_idx:]\n",
    "# train_labels, valid_labels = sentiments_temp_ids[:split_idx], sentiments_temp_ids[split_idx:]\n",
    "\n",
    "# test_idx = int(len(remaining_x)*0.5)\n",
    "# val_x, test_x = remaining_x[:test_idx], remaining_x[test_idx:]\n",
    "# val_y, test_y = remaining_y[:test_idx], remaining_y[test_idx:]\n",
    "\n",
    "## print out the shapes of your resultant feature data\n",
    "print(\"\\t\\t\\tFeature Sizes:\")\n",
    "print(\"Train set: \\t\\t{}\".format(len(train_features)), \n",
    "      \"\\nValidation set: \\t{}\".format(len(valid_features)))#,\n",
    "      #\"\\nTest set: \\t\\t{}\".format(test_x.shape))\n",
    "\n",
    "# train_features = pass\n",
    "# valid_features = pass\n",
    "# train_labels = pass\n",
    "# valid_labels = pass"
   ]
  },
  {
   "cell_type": "code",
   "execution_count": 57,
   "metadata": {},
   "outputs": [],
   "source": [
    "text_batch, labels = next(iter(dataloader(train_features, train_labels, sequence_length=20, batch_size=64)))\n",
    "model = TextClassifier(len(vocab)+1, 200, 128, 5, dropout=0.)\n",
    "hidden = model.init_hidden(64)\n",
    "logps, hidden = model.forward(text_batch, hidden)"
   ]
  },
  {
   "cell_type": "markdown",
   "metadata": {},
   "source": [
    "### Training\n",
    "It's time to train the neural network!"
   ]
  },
  {
   "cell_type": "code",
   "execution_count": 58,
   "metadata": {},
   "outputs": [
    {
     "name": "stdout",
     "output_type": "stream",
     "text": [
      "cuda\n"
     ]
    }
   ],
   "source": [
    "device = torch.device(\"cuda\" if torch.cuda.is_available() else \"cpu\")\n",
    "\n",
    "model = TextClassifier(len(vocab)+1, 1024, 512, 5, lstm_layers=2, dropout=0.2)\n",
    "model.embedding.weight.data.uniform_(-1, 1)\n",
    "model.to(device)\n",
    "print(device)"
   ]
  },
  {
   "cell_type": "code",
   "execution_count": null,
   "metadata": {},
   "outputs": [
    {
     "name": "stdout",
     "output_type": "stream",
     "text": [
      "Starting epoch 1\n",
      "Epoch: 1/4... Step: 100... Training Loss: 1.281145... Validation Loss: 1.577064 Accuracy: 31.933477\n",
      "Epoch: 1/4... Step: 200... Training Loss: 1.011430... Validation Loss: 1.572514 Accuracy: 29.987017\n",
      "Epoch: 1/4... Step: 300... Training Loss: 1.284741... Validation Loss: 1.554693 Accuracy: 33.682773\n",
      "Epoch: 1/4... Step: 400... Training Loss: 1.246030... Validation Loss: 1.603455 Accuracy: 30.137192\n",
      "Epoch: 1/4... Step: 500... Training Loss: 1.422028... Validation Loss: 1.503434 Accuracy: 33.271487\n",
      "Epoch: 1/4... Step: 600... Training Loss: 1.261374... Validation Loss: 1.458057 Accuracy: 35.876295\n",
      "Epoch: 1/4... Step: 700... Training Loss: 1.321968... Validation Loss: 1.441256 Accuracy: 36.948834\n",
      "Epoch: 1/4... Step: 800... Training Loss: 1.356495... Validation Loss: 1.434165 Accuracy: 37.392092\n",
      "Epoch: 1/4... Step: 900... Training Loss: 1.444345... Validation Loss: 1.423685 Accuracy: 38.389060\n",
      "Epoch: 1/4... Step: 1000... Training Loss: 1.326540... Validation Loss: 1.407911 Accuracy: 39.891293\n",
      "Epoch: 1/4... Step: 1100... Training Loss: 1.346579... Validation Loss: 1.390483 Accuracy: 41.082034\n",
      "Epoch: 1/4... Step: 1200... Training Loss: 1.321970... Validation Loss: 1.384091 Accuracy: 41.634290\n",
      "Epoch: 1/4... Step: 1300... Training Loss: 1.326904... Validation Loss: 1.386751 Accuracy: 41.826611\n",
      "Epoch: 1/4... Step: 1400... Training Loss: 1.285304... Validation Loss: 1.390069 Accuracy: 42.367241\n",
      "Epoch: 1/4... Step: 1500... Training Loss: 1.306602... Validation Loss: 1.383629 Accuracy: 42.472363\n",
      "Epoch: 1/4... Step: 1600... Training Loss: 1.226821... Validation Loss: 1.371118 Accuracy: 42.619631\n",
      "Epoch: 1/4... Step: 1700... Training Loss: 1.039146... Validation Loss: 1.358915 Accuracy: 42.842471\n",
      "Epoch: 1/4... Step: 1800... Training Loss: 1.356614... Validation Loss: 1.362859 Accuracy: 42.762540\n",
      "Epoch: 1/4... Step: 1900... Training Loss: 1.348498... Validation Loss: 1.366209 Accuracy: 42.218519\n",
      "Epoch: 1/4... Step: 2000... Training Loss: 1.316984... Validation Loss: 1.348881 Accuracy: 42.822125\n",
      "Epoch: 1/4... Step: 2100... Training Loss: 1.345196... Validation Loss: 1.327898 Accuracy: 43.486286\n",
      "Epoch: 1/4... Step: 2200... Training Loss: 1.235437... Validation Loss: 1.320453 Accuracy: 43.309467\n",
      "Epoch: 1/4... Step: 2300... Training Loss: 1.289689... Validation Loss: 1.326740 Accuracy: 42.311531\n",
      "Epoch: 1/4... Step: 2400... Training Loss: 1.296513... Validation Loss: 1.334824 Accuracy: 41.676921\n",
      "Epoch: 1/4... Step: 2500... Training Loss: 1.281721... Validation Loss: 1.335341 Accuracy: 41.709378\n",
      "Epoch: 1/4... Step: 2600... Training Loss: 1.232366... Validation Loss: 1.328374 Accuracy: 42.424888\n",
      "Epoch: 1/4... Step: 2700... Training Loss: 1.229364... Validation Loss: 1.308973 Accuracy: 44.110238\n",
      "Epoch: 1/4... Step: 2800... Training Loss: 1.141693... Validation Loss: 1.291786 Accuracy: 45.784446\n",
      "Epoch: 1/4... Step: 2900... Training Loss: 1.086504... Validation Loss: 1.285735 Accuracy: 46.418087\n",
      "Epoch: 1/4... Step: 3000... Training Loss: 1.024074... Validation Loss: 1.286200 Accuracy: 46.613314\n",
      "Epoch: 1/4... Step: 3100... Training Loss: 1.081229... Validation Loss: 1.287084 Accuracy: 46.866189\n",
      "Epoch: 1/4... Step: 3200... Training Loss: 1.128031... Validation Loss: 1.294997 Accuracy: 46.951450\n",
      "Epoch: 1/4... Step: 3300... Training Loss: 1.168940... Validation Loss: 1.302817 Accuracy: 47.042524\n",
      "Epoch: 1/4... Step: 3400... Training Loss: 0.943439... Validation Loss: 1.306995 Accuracy: 47.260520\n",
      "Epoch: 1/4... Step: 3500... Training Loss: 0.883449... Validation Loss: 1.303912 Accuracy: 47.426681\n",
      "Epoch: 1/4... Step: 3600... Training Loss: 1.196006... Validation Loss: 1.299952 Accuracy: 47.114705\n",
      "Epoch: 1/4... Step: 3700... Training Loss: 1.140054... Validation Loss: 1.284447 Accuracy: 47.730422\n",
      "Epoch: 1/4... Step: 3800... Training Loss: 1.194553... Validation Loss: 1.267161 Accuracy: 48.350983\n",
      "Epoch: 1/4... Step: 3900... Training Loss: 1.365815... Validation Loss: 1.257007 Accuracy: 48.428008\n",
      "Epoch: 1/4... Step: 4000... Training Loss: 1.305535... Validation Loss: 1.255115 Accuracy: 48.261362\n",
      "Epoch: 1/4... Step: 4100... Training Loss: 1.340358... Validation Loss: 1.250098 Accuracy: 48.222608\n",
      "Epoch: 1/4... Step: 4200... Training Loss: 1.118791... Validation Loss: 1.258522 Accuracy: 47.631597\n",
      "Epoch: 1/4... Step: 4300... Training Loss: 0.831079... Validation Loss: 1.270311 Accuracy: 46.895255\n",
      "Epoch: 1/4... Step: 4400... Training Loss: 0.775126... Validation Loss: 1.271940 Accuracy: 46.159883\n",
      "Epoch: 1/4... Step: 4500... Training Loss: 0.851949... Validation Loss: 1.274187 Accuracy: 46.354141\n",
      "Epoch: 1/4... Step: 4600... Training Loss: 1.016305... Validation Loss: 1.272244 Accuracy: 46.662727\n",
      "Epoch: 1/4... Step: 4700... Training Loss: 1.421181... Validation Loss: 1.261552 Accuracy: 46.984876\n",
      "Epoch: 1/4... Step: 4800... Training Loss: 1.337088... Validation Loss: 1.260518 Accuracy: 46.826950\n",
      "Epoch: 1/4... Step: 4900... Training Loss: 1.283530... Validation Loss: 1.270953 Accuracy: 46.623487\n",
      "Epoch: 1/4... Step: 5000... Training Loss: 1.412652... Validation Loss: 1.280001 Accuracy: 46.442793\n",
      "Epoch: 1/4... Step: 5100... Training Loss: 1.312547... Validation Loss: 1.280831 Accuracy: 47.465436\n",
      "Epoch: 1/4... Step: 5200... Training Loss: 1.391857... Validation Loss: 1.275822 Accuracy: 48.064682\n",
      "Epoch: 1/4... Step: 5300... Training Loss: 1.316719... Validation Loss: 1.268213 Accuracy: 48.175133\n",
      "Epoch: 1/4... Step: 5400... Training Loss: 1.113260... Validation Loss: 1.259447 Accuracy: 48.754517\n",
      "Epoch: 1/4... Step: 5500... Training Loss: 1.113279... Validation Loss: 1.249206 Accuracy: 49.356670\n",
      "Epoch: 1/4... Step: 5600... Training Loss: 1.200672... Validation Loss: 1.241023 Accuracy: 49.530582\n",
      "Epoch: 1/4... Step: 5700... Training Loss: 1.055975... Validation Loss: 1.233644 Accuracy: 49.733076\n",
      "Epoch: 1/4... Step: 5800... Training Loss: 0.988924... Validation Loss: 1.229644 Accuracy: 49.723388\n",
      "Epoch: 1/4... Step: 5900... Training Loss: 0.910244... Validation Loss: 1.230397 Accuracy: 49.801866\n",
      "Epoch: 1/4... Step: 6000... Training Loss: 0.953123... Validation Loss: 1.233365 Accuracy: 49.994187\n",
      "Epoch: 1/4... Step: 6100... Training Loss: 1.204162... Validation Loss: 1.235743 Accuracy: 50.188930\n",
      "Epoch: 1/4... Step: 6200... Training Loss: 1.122436... Validation Loss: 1.230842 Accuracy: 50.309554\n",
      "Epoch: 1/4... Step: 6300... Training Loss: 0.887831... Validation Loss: 1.222609 Accuracy: 50.548865\n",
      "Epoch: 1/4... Step: 6400... Training Loss: 0.443720... Validation Loss: 1.209940 Accuracy: 51.115170\n",
      "Epoch: 1/4... Step: 6500... Training Loss: 0.626247... Validation Loss: 1.201551 Accuracy: 51.473652\n",
      "Epoch: 1/4... Step: 6600... Training Loss: 0.655980... Validation Loss: 1.196482 Accuracy: 51.993450\n",
      "Epoch: 1/4... Step: 6700... Training Loss: 0.930778... Validation Loss: 1.196077 Accuracy: 52.124732\n",
      "Epoch: 1/4... Step: 6800... Training Loss: 0.680607... Validation Loss: 1.200255 Accuracy: 52.281689\n",
      "Epoch: 1/4... Step: 6900... Training Loss: 0.980040... Validation Loss: 1.198259 Accuracy: 52.271032\n",
      "Epoch: 1/4... Step: 7000... Training Loss: 1.114171... Validation Loss: 1.193031 Accuracy: 52.266187\n",
      "Epoch: 1/4... Step: 7100... Training Loss: 1.164114... Validation Loss: 1.187193 Accuracy: 52.306880\n",
      "Epoch: 1/4... Step: 7200... Training Loss: 0.994462... Validation Loss: 1.182364 Accuracy: 52.357746\n",
      "Epoch: 1/4... Step: 7300... Training Loss: 0.951327... Validation Loss: 1.177284 Accuracy: 52.483214\n",
      "Epoch: 1/4... Step: 7400... Training Loss: 1.204679... Validation Loss: 1.172993 Accuracy: 52.527782\n",
      "Epoch: 1/4... Step: 7500... Training Loss: 0.921529... Validation Loss: 1.171625 Accuracy: 52.459961\n",
      "Epoch: 1/4... Step: 7600... Training Loss: 1.079631... Validation Loss: 1.174103 Accuracy: 52.156221\n",
      "Epoch: 1/4... Step: 7700... Training Loss: 1.184578... Validation Loss: 1.181529 Accuracy: 51.830196\n",
      "Epoch: 1/4... Step: 7800... Training Loss: 1.100946... Validation Loss: 1.187155 Accuracy: 51.614138\n",
      "Epoch: 1/4... Step: 7900... Training Loss: 1.222976... Validation Loss: 1.179205 Accuracy: 51.953727\n",
      "Epoch: 1/4... Step: 8000... Training Loss: 1.074720... Validation Loss: 1.167690 Accuracy: 52.332555\n",
      "Epoch: 1/4... Step: 8100... Training Loss: 1.022578... Validation Loss: 1.157523 Accuracy: 52.536987\n",
      "Epoch: 1/4... Step: 8200... Training Loss: 1.160477... Validation Loss: 1.154766 Accuracy: 52.431864\n",
      "Epoch: 1/4... Step: 8300... Training Loss: 1.156866... Validation Loss: 1.156246 Accuracy: 52.312209\n",
      "Epoch: 1/4... Step: 8400... Training Loss: 1.110743... Validation Loss: 1.154641 Accuracy: 52.506467\n",
      "Epoch: 1/4... Step: 8500... Training Loss: 0.927549... Validation Loss: 1.151452 Accuracy: 52.939552\n",
      "Epoch: 1/4... Step: 8600... Training Loss: 1.083808... Validation Loss: 1.151488 Accuracy: 53.303363\n",
      "Epoch: 1/4... Step: 8700... Training Loss: 1.090784... Validation Loss: 1.151775 Accuracy: 53.214711\n",
      "Epoch: 1/4... Step: 8800... Training Loss: 1.160480... Validation Loss: 1.149588 Accuracy: 53.138171\n",
      "Epoch: 1/4... Step: 8900... Training Loss: 1.101776... Validation Loss: 1.148057 Accuracy: 53.106198\n",
      "Epoch: 1/4... Step: 9000... Training Loss: 1.201802... Validation Loss: 1.148618 Accuracy: 52.912908\n",
      "Epoch: 1/4... Step: 9100... Training Loss: 0.973170... Validation Loss: 1.149325 Accuracy: 52.788893\n",
      "Epoch: 1/4... Step: 9200... Training Loss: 0.686433... Validation Loss: 1.148606 Accuracy: 52.781626\n",
      "Epoch: 1/4... Step: 9300... Training Loss: 0.995214... Validation Loss: 1.145428 Accuracy: 52.924050\n",
      "Epoch: 1/4... Step: 9400... Training Loss: 0.933658... Validation Loss: 1.137855 Accuracy: 53.291737\n",
      "Epoch: 1/4... Step: 9500... Training Loss: 0.843579... Validation Loss: 1.132192 Accuracy: 53.450147\n",
      "Epoch: 1/4... Step: 9600... Training Loss: 1.154382... Validation Loss: 1.126983 Accuracy: 53.726275\n",
      "Epoch: 1/4... Step: 9700... Training Loss: 0.874320... Validation Loss: 1.123317 Accuracy: 53.843024\n",
      "Epoch: 1/4... Step: 9800... Training Loss: 0.748196... Validation Loss: 1.120502 Accuracy: 54.292579\n",
      "Epoch: 1/4... Step: 9900... Training Loss: 1.007347... Validation Loss: 1.119078 Accuracy: 54.454381\n",
      "Epoch: 1/4... Step: 10000... Training Loss: 1.088456... Validation Loss: 1.118763 Accuracy: 54.845804\n",
      "Epoch: 1/4... Step: 10100... Training Loss: 1.138613... Validation Loss: 1.118837 Accuracy: 54.882137\n",
      "Epoch: 1/4... Step: 10200... Training Loss: 1.161898... Validation Loss: 1.119725 Accuracy: 54.879230\n",
      "Epoch: 1/4... Step: 10300... Training Loss: 1.098312... Validation Loss: 1.123445 Accuracy: 54.550783\n",
      "Epoch: 1/4... Step: 10400... Training Loss: 1.121801... Validation Loss: 1.133182 Accuracy: 53.796518\n",
      "Epoch: 1/4... Step: 10500... Training Loss: 1.141708... Validation Loss: 1.148504 Accuracy: 52.897406\n",
      "Epoch: 1/4... Step: 10600... Training Loss: 0.970001... Validation Loss: 1.167662 Accuracy: 51.982308\n",
      "Epoch: 1/4... Step: 10700... Training Loss: 1.041705... Validation Loss: 1.189910 Accuracy: 51.228527\n",
      "Epoch: 1/4... Step: 10800... Training Loss: 1.238417... Validation Loss: 1.195263 Accuracy: 50.840010\n",
      "Epoch: 1/4... Step: 10900... Training Loss: 1.235361... Validation Loss: 1.176936 Accuracy: 51.122921\n",
      "Epoch: 1/4... Step: 11000... Training Loss: 1.101290... Validation Loss: 1.161952 Accuracy: 51.317663\n",
      "Epoch: 1/4... Step: 11100... Training Loss: 0.836566... Validation Loss: 1.154973 Accuracy: 51.748326\n",
      "Epoch: 1/4... Step: 11200... Training Loss: 0.961804... Validation Loss: 1.148050 Accuracy: 52.316569\n",
      "Epoch: 1/4... Step: 11300... Training Loss: 0.890858... Validation Loss: 1.144959 Accuracy: 52.686193\n",
      "Epoch: 1/4... Step: 11400... Training Loss: 1.087878... Validation Loss: 1.141250 Accuracy: 53.051941\n",
      "Epoch: 1/4... Step: 11500... Training Loss: 1.069800... Validation Loss: 1.139203 Accuracy: 53.192427\n",
      "Epoch: 1/4... Step: 11600... Training Loss: 1.010723... Validation Loss: 1.139192 Accuracy: 53.230698\n",
      "Epoch: 1/4... Step: 11700... Training Loss: 0.988123... Validation Loss: 1.139309 Accuracy: 53.461773\n",
      "Epoch: 1/4... Step: 11800... Training Loss: 0.850733... Validation Loss: 1.138164 Accuracy: 53.817833\n",
      "Epoch: 1/4... Step: 11900... Training Loss: 0.938541... Validation Loss: 1.135908 Accuracy: 54.614729\n",
      "Epoch: 1/4... Step: 12000... Training Loss: 1.033042... Validation Loss: 1.138343 Accuracy: 55.008090\n",
      "Epoch: 1/4... Step: 12100... Training Loss: 0.814764... Validation Loss: 1.142160 Accuracy: 55.241588\n"
     ]
    }
   ],
   "source": [
    "\"\"\"\n",
    "Train your model with dropout. Make sure to clip your gradients.\n",
    "Print the training loss, validation loss, and validation accuracy for every 100 steps.\n",
    "\"\"\"\n",
    "import numpy as np\n",
    "epochs = 4\n",
    "batch_size = 256\n",
    "learning_rate = .001\n",
    "\n",
    "#Clipping parameter\n",
    "clip = 5\n",
    "\n",
    "print_every = 100\n",
    "criterion = nn.NLLLoss()\n",
    "optimizer = optim.Adam(model.parameters(), lr=learning_rate)\n",
    "model.train()\n",
    "\n",
    "for epoch in range(epochs):\n",
    "    print('Starting epoch {}'.format(epoch + 1))\n",
    "    \n",
    "    steps = 0\n",
    "    for text_batch, labels in dataloader(\n",
    "            train_features, train_labels, batch_size=batch_size):#, sequence_length=20, shuffle=True):\n",
    "        steps += 100\n",
    "        \n",
    "        hidden = model.init_hidden(labels.shape[0])\n",
    "        # Set Device\n",
    "        text_batch, labels = text_batch.to(device), labels.to(device)\n",
    "        \n",
    "        for each in hidden:\n",
    "            each.to(device)\n",
    "        \n",
    "        #hidden = tuple([each.data for each in hidden])\n",
    "        # TODO Implement: Train Model\n",
    "        correct = 0\n",
    "        total = 1\n",
    "        \n",
    "        model.zero_grad()\n",
    "        output, hidden = model(text_batch, hidden)\n",
    "        \n",
    "        loss = criterion(output.squeeze(), labels)\n",
    "        loss.backward()\n",
    "        #print(\"made it here\")\n",
    "        #Clip gradient\n",
    "        nn.utils.clip_grad_norm_(model.parameters(), clip)\n",
    "        optimizer.step()\n",
    "        \n",
    "        if steps % print_every == 0:\n",
    "            model.eval()\n",
    "            \n",
    "            # TODO Implement: Print metrics\n",
    "            #TOTAL Frankenstein combination of suggestions from the student hub \n",
    "            # Get validation loss\n",
    "            \n",
    "            val_losses = []\n",
    "            #model.eval()\n",
    "            \n",
    "            #with torch.no_grad():\n",
    "            for inputs, labels in dataloader(valid_features,\n",
    "                                             valid_labels,\n",
    "                                             batch_size = batch_size): #,\n",
    "                                             #value of 20 comes from above\n",
    "                                             #sequence_length = 20,\n",
    "                                             #shuffle = True):\n",
    "\n",
    "                # Creating new variables for the hidden state, otherwise\n",
    "                # we'd backprop through the entire training history\n",
    "                inputs, labels = inputs.to(device), labels.to(device)\n",
    "                #steps = steps + 1\n",
    "                #val_h = tuple([each.data for each in val_h])\n",
    "                val_h = model.init_hidden(labels.shape[0])\n",
    "                for each in val_h:\n",
    "                    each.to(device)\n",
    "#                     if(train_on_gpu):\n",
    "#                         inputs, labels = inputs.cuda(), labels.cuda()\n",
    "\n",
    "                output, val_h = model(inputs, val_h)\n",
    "                val_loss = criterion(output.squeeze(), labels)\n",
    "\n",
    "                val_losses.append(val_loss.item())\n",
    "                \n",
    "                #From pytorch docs -- https://pytorch.org/tutorials/beginner/blitz/cifar10_tutorial.html\n",
    "                _, predicted = torch.max(output.data, 1)\n",
    "                total += labels.size(0)\n",
    "                correct += (predicted == labels).sum().item()\n",
    "\n",
    "            model.train()\n",
    "            \n",
    "            print(\"Epoch: {}/{}...\".format(epoch + 1, epochs),\n",
    "                  \"Step: {}...\".format(steps),\n",
    "                  \"Training Loss: {:.6f}...\".format(loss.item()),\n",
    "                  \"Validation Loss: {:.6f}\".format(np.mean(val_losses)),\n",
    "                  \"Accuracy: {:.6f}\".format(100 * correct/total))\n",
    "            #model.train()"
   ]
  },
  {
   "cell_type": "markdown",
   "metadata": {},
   "source": [
    "## Making Predictions\n",
    "### Prediction \n",
    "Okay, now that you have a trained model, try it on some new twits and see if it works appropriately. Remember that for any new text, you'll need to preprocess it first before passing it to the network. Implement the `predict` function to generate the prediction vector from a message."
   ]
  },
  {
   "cell_type": "code",
   "execution_count": 1,
   "metadata": {},
   "outputs": [],
   "source": [
    "def predict(text, model, vocab):\n",
    "    \"\"\" \n",
    "    Make a prediction on a single sentence.\n",
    "\n",
    "    Parameters\n",
    "    ----------\n",
    "        text : The string to make a prediction on.\n",
    "        model : The model to use for making the prediction.\n",
    "        vocab : Dictionary for word to word ids. The key is the word and the value is the word id.\n",
    "\n",
    "    Returns\n",
    "    -------\n",
    "        pred : Prediction vector\n",
    "    \"\"\"    \n",
    "    \n",
    "    # TODO Implement\n",
    "    \n",
    "    tokens = preprocess(text)\n",
    "    \n",
    "    # Filter non-vocab words\n",
    "    tokens = [tk for tk in tokens if tk in vocab]\n",
    "    # Convert words to ids\n",
    "    tokens = [vocab[tk] for tk in tokens]\n",
    "        \n",
    "    # Adding a batch dimension\n",
    "    #From reviewer suggestion\n",
    "    text_array = torch.tensor(tokens).view(-1,1)\n",
    "    # Get the NN output\n",
    "    hidden = model.init_hidden(1)\n",
    "    log_probs, _ = model.forward(text_array, hidden)\n",
    "    # Take the exponent of the NN output to get a range of 0 to 1 for each label.\n",
    "    pred = torch.exp(log_probs)\n",
    "    \n",
    "    return pred"
   ]
  },
  {
   "cell_type": "code",
   "execution_count": 2,
   "metadata": {},
   "outputs": [
    {
     "ename": "NameError",
     "evalue": "name 'model' is not defined",
     "output_type": "error",
     "traceback": [
      "\u001b[0;31m---------------------------------------------------------------------------\u001b[0m",
      "\u001b[0;31mNameError\u001b[0m                                 Traceback (most recent call last)",
      "\u001b[0;32m<ipython-input-2-c383dc9bb018>\u001b[0m in \u001b[0;36m<module>\u001b[0;34m()\u001b[0m\n\u001b[1;32m      1\u001b[0m \u001b[0mtext\u001b[0m \u001b[0;34m=\u001b[0m \u001b[0;34m\"Google is working on self driving cars, I'm bullish on $goog\"\u001b[0m\u001b[0;34m\u001b[0m\u001b[0m\n\u001b[0;32m----> 2\u001b[0;31m \u001b[0mmodel\u001b[0m\u001b[0;34m.\u001b[0m\u001b[0meval\u001b[0m\u001b[0;34m(\u001b[0m\u001b[0;34m)\u001b[0m\u001b[0;34m\u001b[0m\u001b[0m\n\u001b[0m\u001b[1;32m      3\u001b[0m \u001b[0mmodel\u001b[0m\u001b[0;34m.\u001b[0m\u001b[0mto\u001b[0m\u001b[0;34m(\u001b[0m\u001b[0;34m\"cpu\"\u001b[0m\u001b[0;34m)\u001b[0m\u001b[0;34m\u001b[0m\u001b[0m\n\u001b[1;32m      4\u001b[0m \u001b[0mpredict\u001b[0m\u001b[0;34m(\u001b[0m\u001b[0mtext\u001b[0m\u001b[0;34m,\u001b[0m \u001b[0mmodel\u001b[0m\u001b[0;34m,\u001b[0m \u001b[0mvocab\u001b[0m\u001b[0;34m)\u001b[0m\u001b[0;34m\u001b[0m\u001b[0m\n",
      "\u001b[0;31mNameError\u001b[0m: name 'model' is not defined"
     ]
    }
   ],
   "source": [
    "text = \"Google is working on self driving cars, I'm bullish on $goog\"\n",
    "model.eval()\n",
    "model.to(\"cpu\")\n",
    "predict(text, model, vocab)"
   ]
  },
  {
   "cell_type": "markdown",
   "metadata": {},
   "source": [
    "### Questions: What is the prediction of the model? What is the uncertainty of the prediction?\n",
    "** TODO: Answer Question**"
   ]
  },
  {
   "cell_type": "markdown",
   "metadata": {},
   "source": [
    "Now we have a trained model and we can make predictions. We can use this model to track the sentiments of various stocks by predicting the sentiments of twits as they are coming in. Now we have a stream of twits. For each of those twits, pull out the stocks mentioned in them and keep track of the sentiments. Remember that in the twits, ticker symbols are encoded with a dollar sign as the first character, all caps, and 2-4 letters, like $AAPL. Ideally, you'd want to track the sentiments of the stocks in your universe and use this as a signal in your larger model(s).\n",
    "\n",
    "## Testing\n",
    "### Load the Data "
   ]
  },
  {
   "cell_type": "code",
   "execution_count": 52,
   "metadata": {},
   "outputs": [],
   "source": [
    "with open(os.path.join('..', '..', 'data', 'project_6_stocktwits', 'test_twits.json'), 'r') as f:\n",
    "    test_data = json.load(f)"
   ]
  },
  {
   "cell_type": "markdown",
   "metadata": {},
   "source": [
    "### Twit Stream"
   ]
  },
  {
   "cell_type": "code",
   "execution_count": 53,
   "metadata": {},
   "outputs": [
    {
     "data": {
      "text/plain": [
       "{'message_body': '$JWN has moved -1.69% on 10-31. Check out the movement and peers at  https://dividendbot.com?s=JWN',\n",
       " 'timestamp': '2018-11-01T00:00:05Z'}"
      ]
     },
     "execution_count": 53,
     "metadata": {},
     "output_type": "execute_result"
    }
   ],
   "source": [
    "def twit_stream():\n",
    "    for twit in test_data['data']:\n",
    "        yield twit\n",
    "\n",
    "next(twit_stream())"
   ]
  },
  {
   "cell_type": "markdown",
   "metadata": {},
   "source": [
    "Using the `prediction` function, let's apply it to a stream of twits."
   ]
  },
  {
   "cell_type": "code",
   "execution_count": 54,
   "metadata": {},
   "outputs": [],
   "source": [
    "def score_twits(stream, model, vocab, universe):\n",
    "    \"\"\" \n",
    "    Given a stream of twits and a universe of tickers, return sentiment scores for tickers in the universe.\n",
    "    \"\"\"\n",
    "    for twit in stream:\n",
    "\n",
    "        # Get the message text\n",
    "        text = twit['message_body']\n",
    "        symbols = re.findall('\\$[A-Z]{2,4}', text)\n",
    "        score = predict(text, model, vocab)\n",
    "\n",
    "        for symbol in symbols:\n",
    "            if symbol in universe:\n",
    "                yield {'symbol': symbol, 'score': score, 'timestamp': twit['timestamp']}"
   ]
  },
  {
   "cell_type": "code",
   "execution_count": 55,
   "metadata": {},
   "outputs": [
    {
     "data": {
      "text/plain": [
       "{'symbol': '$AAPL',\n",
       " 'score': tensor([[ 0.0803,  0.0615,  0.6567,  0.1393,  0.0623]]),\n",
       " 'timestamp': '2018-11-01T00:00:18Z'}"
      ]
     },
     "execution_count": 55,
     "metadata": {},
     "output_type": "execute_result"
    }
   ],
   "source": [
    "universe = {'$BBRY', '$AAPL', '$AMZN', '$BABA', '$YHOO', '$LQMT', '$FB', '$GOOG', '$BBBY', '$JNUG', '$SBUX', '$MU'}\n",
    "score_stream = score_twits(twit_stream(), model, vocab, universe)\n",
    "\n",
    "next(score_stream)"
   ]
  },
  {
   "cell_type": "markdown",
   "metadata": {},
   "source": [
    "That's it. You have successfully built a model for sentiment analysis! "
   ]
  },
  {
   "cell_type": "markdown",
   "metadata": {},
   "source": [
    "## Submission\n",
    "Now that you're done with the project, it's time to submit it. Click the submit button in the bottom right. One of our reviewers will give you feedback on your project with a pass or not passed grade. You can continue to the next section while you wait for feedback."
   ]
  },
  {
   "cell_type": "code",
   "execution_count": null,
   "metadata": {},
   "outputs": [],
   "source": []
  }
 ],
 "metadata": {
  "kernelspec": {
   "display_name": "Python 3",
   "language": "python",
   "name": "python3"
  },
  "language_info": {
   "codemirror_mode": {
    "name": "ipython",
    "version": 3
   },
   "file_extension": ".py",
   "mimetype": "text/x-python",
   "name": "python",
   "nbconvert_exporter": "python",
   "pygments_lexer": "ipython3",
   "version": "3.6.3"
  }
 },
 "nbformat": 4,
 "nbformat_minor": 2
}
